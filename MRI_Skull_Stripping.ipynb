{
  "nbformat": 4,
  "nbformat_minor": 0,
  "metadata": {
    "colab": {
      "provenance": [],
      "collapsed_sections": [
        "fjmPlHTjv_JS",
        "5iTdi_z3wjqY",
        "R3S7tWYExTIA"
      ]
    },
    "kernelspec": {
      "name": "python3",
      "display_name": "Python 3"
    },
    "language_info": {
      "name": "python"
    },
    "accelerator": "GPU",
    "gpuClass": "standard"
  },
  "cells": [
    {
      "cell_type": "markdown",
      "source": [
        "# IBSR Summary\n",
        "*   Accuracy: ~97.5%, Loss: ~6%\n",
        "*   Wavelets: Haar\n",
        "*   Model Configurations: config2, config4, config16\n",
        "*   Best Configurations Used: activation, activation2, activation3 = 'relu', 'relu', tfa.activations.mish\n",
        "*   Non separable 2D conv. outperforms separable 2D conv.\n",
        "*   DWT Pooling\n",
        "*   batch_size = 2\n",
        "*   epoch=10\n",
        "*   256x256 input\n",
        "\n",
        "# NFBS Summary:\n",
        "\n"
      ],
      "metadata": {
        "id": "-433z_HUyPwH"
      }
    },
    {
      "cell_type": "markdown",
      "source": [
        "# Installing Dependencies\n"
      ],
      "metadata": {
        "id": "fjmPlHTjv_JS"
      }
    },
    {
      "cell_type": "code",
      "execution_count": null,
      "metadata": {
        "id": "Ov0HGQCOvaiX",
        "colab": {
          "base_uri": "https://localhost:8080/"
        },
        "outputId": "172b3c01-4a83-4574-b8fc-ab6aa86bb208"
      },
      "outputs": [
        {
          "output_type": "stream",
          "name": "stdout",
          "text": [
            "Collecting tensorflow-wavelets\n",
            "  Downloading tensorflow_wavelets-1.0.29-py3-none-any.whl (25 kB)\n",
            "Requirement already satisfied: tensorflow in /usr/local/lib/python3.10/dist-packages (from tensorflow-wavelets) (2.14.0)\n",
            "Requirement already satisfied: tensorflow-probability in /usr/local/lib/python3.10/dist-packages (from tensorflow-wavelets) (0.22.0)\n",
            "Requirement already satisfied: PyWavelets in /usr/local/lib/python3.10/dist-packages (from tensorflow-wavelets) (1.4.1)\n",
            "Requirement already satisfied: numpy>=1.17.3 in /usr/local/lib/python3.10/dist-packages (from PyWavelets->tensorflow-wavelets) (1.23.5)\n",
            "Requirement already satisfied: absl-py>=1.0.0 in /usr/local/lib/python3.10/dist-packages (from tensorflow->tensorflow-wavelets) (1.4.0)\n",
            "Requirement already satisfied: astunparse>=1.6.0 in /usr/local/lib/python3.10/dist-packages (from tensorflow->tensorflow-wavelets) (1.6.3)\n",
            "Requirement already satisfied: flatbuffers>=23.5.26 in /usr/local/lib/python3.10/dist-packages (from tensorflow->tensorflow-wavelets) (23.5.26)\n",
            "Requirement already satisfied: gast!=0.5.0,!=0.5.1,!=0.5.2,>=0.2.1 in /usr/local/lib/python3.10/dist-packages (from tensorflow->tensorflow-wavelets) (0.5.4)\n",
            "Requirement already satisfied: google-pasta>=0.1.1 in /usr/local/lib/python3.10/dist-packages (from tensorflow->tensorflow-wavelets) (0.2.0)\n",
            "Requirement already satisfied: h5py>=2.9.0 in /usr/local/lib/python3.10/dist-packages (from tensorflow->tensorflow-wavelets) (3.9.0)\n",
            "Requirement already satisfied: libclang>=13.0.0 in /usr/local/lib/python3.10/dist-packages (from tensorflow->tensorflow-wavelets) (16.0.6)\n",
            "Requirement already satisfied: ml-dtypes==0.2.0 in /usr/local/lib/python3.10/dist-packages (from tensorflow->tensorflow-wavelets) (0.2.0)\n",
            "Requirement already satisfied: opt-einsum>=2.3.2 in /usr/local/lib/python3.10/dist-packages (from tensorflow->tensorflow-wavelets) (3.3.0)\n",
            "Requirement already satisfied: packaging in /usr/local/lib/python3.10/dist-packages (from tensorflow->tensorflow-wavelets) (23.2)\n",
            "Requirement already satisfied: protobuf!=4.21.0,!=4.21.1,!=4.21.2,!=4.21.3,!=4.21.4,!=4.21.5,<5.0.0dev,>=3.20.3 in /usr/local/lib/python3.10/dist-packages (from tensorflow->tensorflow-wavelets) (3.20.3)\n",
            "Requirement already satisfied: setuptools in /usr/local/lib/python3.10/dist-packages (from tensorflow->tensorflow-wavelets) (67.7.2)\n",
            "Requirement already satisfied: six>=1.12.0 in /usr/local/lib/python3.10/dist-packages (from tensorflow->tensorflow-wavelets) (1.16.0)\n",
            "Requirement already satisfied: termcolor>=1.1.0 in /usr/local/lib/python3.10/dist-packages (from tensorflow->tensorflow-wavelets) (2.3.0)\n",
            "Requirement already satisfied: typing-extensions>=3.6.6 in /usr/local/lib/python3.10/dist-packages (from tensorflow->tensorflow-wavelets) (4.5.0)\n",
            "Requirement already satisfied: wrapt<1.15,>=1.11.0 in /usr/local/lib/python3.10/dist-packages (from tensorflow->tensorflow-wavelets) (1.14.1)\n",
            "Requirement already satisfied: tensorflow-io-gcs-filesystem>=0.23.1 in /usr/local/lib/python3.10/dist-packages (from tensorflow->tensorflow-wavelets) (0.34.0)\n",
            "Requirement already satisfied: grpcio<2.0,>=1.24.3 in /usr/local/lib/python3.10/dist-packages (from tensorflow->tensorflow-wavelets) (1.59.0)\n",
            "Requirement already satisfied: tensorboard<2.15,>=2.14 in /usr/local/lib/python3.10/dist-packages (from tensorflow->tensorflow-wavelets) (2.14.1)\n",
            "Requirement already satisfied: tensorflow-estimator<2.15,>=2.14.0 in /usr/local/lib/python3.10/dist-packages (from tensorflow->tensorflow-wavelets) (2.14.0)\n",
            "Requirement already satisfied: keras<2.15,>=2.14.0 in /usr/local/lib/python3.10/dist-packages (from tensorflow->tensorflow-wavelets) (2.14.0)\n",
            "Requirement already satisfied: decorator in /usr/local/lib/python3.10/dist-packages (from tensorflow-probability->tensorflow-wavelets) (4.4.2)\n",
            "Requirement already satisfied: cloudpickle>=1.3 in /usr/local/lib/python3.10/dist-packages (from tensorflow-probability->tensorflow-wavelets) (2.2.1)\n",
            "Requirement already satisfied: dm-tree in /usr/local/lib/python3.10/dist-packages (from tensorflow-probability->tensorflow-wavelets) (0.1.8)\n",
            "Requirement already satisfied: wheel<1.0,>=0.23.0 in /usr/local/lib/python3.10/dist-packages (from astunparse>=1.6.0->tensorflow->tensorflow-wavelets) (0.41.2)\n",
            "Requirement already satisfied: google-auth<3,>=1.6.3 in /usr/local/lib/python3.10/dist-packages (from tensorboard<2.15,>=2.14->tensorflow->tensorflow-wavelets) (2.17.3)\n",
            "Requirement already satisfied: google-auth-oauthlib<1.1,>=0.5 in /usr/local/lib/python3.10/dist-packages (from tensorboard<2.15,>=2.14->tensorflow->tensorflow-wavelets) (1.0.0)\n",
            "Requirement already satisfied: markdown>=2.6.8 in /usr/local/lib/python3.10/dist-packages (from tensorboard<2.15,>=2.14->tensorflow->tensorflow-wavelets) (3.5)\n",
            "Requirement already satisfied: requests<3,>=2.21.0 in /usr/local/lib/python3.10/dist-packages (from tensorboard<2.15,>=2.14->tensorflow->tensorflow-wavelets) (2.31.0)\n",
            "Requirement already satisfied: tensorboard-data-server<0.8.0,>=0.7.0 in /usr/local/lib/python3.10/dist-packages (from tensorboard<2.15,>=2.14->tensorflow->tensorflow-wavelets) (0.7.2)\n",
            "Requirement already satisfied: werkzeug>=1.0.1 in /usr/local/lib/python3.10/dist-packages (from tensorboard<2.15,>=2.14->tensorflow->tensorflow-wavelets) (3.0.1)\n",
            "Requirement already satisfied: cachetools<6.0,>=2.0.0 in /usr/local/lib/python3.10/dist-packages (from google-auth<3,>=1.6.3->tensorboard<2.15,>=2.14->tensorflow->tensorflow-wavelets) (5.3.2)\n",
            "Requirement already satisfied: pyasn1-modules>=0.2.1 in /usr/local/lib/python3.10/dist-packages (from google-auth<3,>=1.6.3->tensorboard<2.15,>=2.14->tensorflow->tensorflow-wavelets) (0.3.0)\n",
            "Requirement already satisfied: rsa<5,>=3.1.4 in /usr/local/lib/python3.10/dist-packages (from google-auth<3,>=1.6.3->tensorboard<2.15,>=2.14->tensorflow->tensorflow-wavelets) (4.9)\n",
            "Requirement already satisfied: requests-oauthlib>=0.7.0 in /usr/local/lib/python3.10/dist-packages (from google-auth-oauthlib<1.1,>=0.5->tensorboard<2.15,>=2.14->tensorflow->tensorflow-wavelets) (1.3.1)\n",
            "Requirement already satisfied: charset-normalizer<4,>=2 in /usr/local/lib/python3.10/dist-packages (from requests<3,>=2.21.0->tensorboard<2.15,>=2.14->tensorflow->tensorflow-wavelets) (3.3.1)\n",
            "Requirement already satisfied: idna<4,>=2.5 in /usr/local/lib/python3.10/dist-packages (from requests<3,>=2.21.0->tensorboard<2.15,>=2.14->tensorflow->tensorflow-wavelets) (3.4)\n",
            "Requirement already satisfied: urllib3<3,>=1.21.1 in /usr/local/lib/python3.10/dist-packages (from requests<3,>=2.21.0->tensorboard<2.15,>=2.14->tensorflow->tensorflow-wavelets) (2.0.7)\n",
            "Requirement already satisfied: certifi>=2017.4.17 in /usr/local/lib/python3.10/dist-packages (from requests<3,>=2.21.0->tensorboard<2.15,>=2.14->tensorflow->tensorflow-wavelets) (2023.7.22)\n",
            "Requirement already satisfied: MarkupSafe>=2.1.1 in /usr/local/lib/python3.10/dist-packages (from werkzeug>=1.0.1->tensorboard<2.15,>=2.14->tensorflow->tensorflow-wavelets) (2.1.3)\n",
            "Requirement already satisfied: pyasn1<0.6.0,>=0.4.6 in /usr/local/lib/python3.10/dist-packages (from pyasn1-modules>=0.2.1->google-auth<3,>=1.6.3->tensorboard<2.15,>=2.14->tensorflow->tensorflow-wavelets) (0.5.0)\n",
            "Requirement already satisfied: oauthlib>=3.0.0 in /usr/local/lib/python3.10/dist-packages (from requests-oauthlib>=0.7.0->google-auth-oauthlib<1.1,>=0.5->tensorboard<2.15,>=2.14->tensorflow->tensorflow-wavelets) (3.2.2)\n",
            "Installing collected packages: tensorflow-wavelets\n",
            "Successfully installed tensorflow-wavelets-1.0.29\n",
            "Collecting keras-rl2\n",
            "  Downloading keras_rl2-1.0.5-py3-none-any.whl (52 kB)\n",
            "\u001b[2K     \u001b[90m━━━━━━━━━━━━━━━━━━━━━━━━━━━━━━━━━━━━━━━━\u001b[0m \u001b[32m52.1/52.1 kB\u001b[0m \u001b[31m1.3 MB/s\u001b[0m eta \u001b[36m0:00:00\u001b[0m\n",
            "\u001b[?25hRequirement already satisfied: tensorflow in /usr/local/lib/python3.10/dist-packages (from keras-rl2) (2.14.0)\n",
            "Requirement already satisfied: absl-py>=1.0.0 in /usr/local/lib/python3.10/dist-packages (from tensorflow->keras-rl2) (1.4.0)\n",
            "Requirement already satisfied: astunparse>=1.6.0 in /usr/local/lib/python3.10/dist-packages (from tensorflow->keras-rl2) (1.6.3)\n",
            "Requirement already satisfied: flatbuffers>=23.5.26 in /usr/local/lib/python3.10/dist-packages (from tensorflow->keras-rl2) (23.5.26)\n",
            "Requirement already satisfied: gast!=0.5.0,!=0.5.1,!=0.5.2,>=0.2.1 in /usr/local/lib/python3.10/dist-packages (from tensorflow->keras-rl2) (0.5.4)\n",
            "Requirement already satisfied: google-pasta>=0.1.1 in /usr/local/lib/python3.10/dist-packages (from tensorflow->keras-rl2) (0.2.0)\n",
            "Requirement already satisfied: h5py>=2.9.0 in /usr/local/lib/python3.10/dist-packages (from tensorflow->keras-rl2) (3.9.0)\n",
            "Requirement already satisfied: libclang>=13.0.0 in /usr/local/lib/python3.10/dist-packages (from tensorflow->keras-rl2) (16.0.6)\n",
            "Requirement already satisfied: ml-dtypes==0.2.0 in /usr/local/lib/python3.10/dist-packages (from tensorflow->keras-rl2) (0.2.0)\n",
            "Requirement already satisfied: numpy>=1.23.5 in /usr/local/lib/python3.10/dist-packages (from tensorflow->keras-rl2) (1.23.5)\n",
            "Requirement already satisfied: opt-einsum>=2.3.2 in /usr/local/lib/python3.10/dist-packages (from tensorflow->keras-rl2) (3.3.0)\n",
            "Requirement already satisfied: packaging in /usr/local/lib/python3.10/dist-packages (from tensorflow->keras-rl2) (23.2)\n",
            "Requirement already satisfied: protobuf!=4.21.0,!=4.21.1,!=4.21.2,!=4.21.3,!=4.21.4,!=4.21.5,<5.0.0dev,>=3.20.3 in /usr/local/lib/python3.10/dist-packages (from tensorflow->keras-rl2) (3.20.3)\n",
            "Requirement already satisfied: setuptools in /usr/local/lib/python3.10/dist-packages (from tensorflow->keras-rl2) (67.7.2)\n",
            "Requirement already satisfied: six>=1.12.0 in /usr/local/lib/python3.10/dist-packages (from tensorflow->keras-rl2) (1.16.0)\n",
            "Requirement already satisfied: termcolor>=1.1.0 in /usr/local/lib/python3.10/dist-packages (from tensorflow->keras-rl2) (2.3.0)\n",
            "Requirement already satisfied: typing-extensions>=3.6.6 in /usr/local/lib/python3.10/dist-packages (from tensorflow->keras-rl2) (4.5.0)\n",
            "Requirement already satisfied: wrapt<1.15,>=1.11.0 in /usr/local/lib/python3.10/dist-packages (from tensorflow->keras-rl2) (1.14.1)\n",
            "Requirement already satisfied: tensorflow-io-gcs-filesystem>=0.23.1 in /usr/local/lib/python3.10/dist-packages (from tensorflow->keras-rl2) (0.34.0)\n",
            "Requirement already satisfied: grpcio<2.0,>=1.24.3 in /usr/local/lib/python3.10/dist-packages (from tensorflow->keras-rl2) (1.59.0)\n",
            "Requirement already satisfied: tensorboard<2.15,>=2.14 in /usr/local/lib/python3.10/dist-packages (from tensorflow->keras-rl2) (2.14.1)\n",
            "Requirement already satisfied: tensorflow-estimator<2.15,>=2.14.0 in /usr/local/lib/python3.10/dist-packages (from tensorflow->keras-rl2) (2.14.0)\n",
            "Requirement already satisfied: keras<2.15,>=2.14.0 in /usr/local/lib/python3.10/dist-packages (from tensorflow->keras-rl2) (2.14.0)\n",
            "Requirement already satisfied: wheel<1.0,>=0.23.0 in /usr/local/lib/python3.10/dist-packages (from astunparse>=1.6.0->tensorflow->keras-rl2) (0.41.2)\n",
            "Requirement already satisfied: google-auth<3,>=1.6.3 in /usr/local/lib/python3.10/dist-packages (from tensorboard<2.15,>=2.14->tensorflow->keras-rl2) (2.17.3)\n",
            "Requirement already satisfied: google-auth-oauthlib<1.1,>=0.5 in /usr/local/lib/python3.10/dist-packages (from tensorboard<2.15,>=2.14->tensorflow->keras-rl2) (1.0.0)\n",
            "Requirement already satisfied: markdown>=2.6.8 in /usr/local/lib/python3.10/dist-packages (from tensorboard<2.15,>=2.14->tensorflow->keras-rl2) (3.5)\n",
            "Requirement already satisfied: requests<3,>=2.21.0 in /usr/local/lib/python3.10/dist-packages (from tensorboard<2.15,>=2.14->tensorflow->keras-rl2) (2.31.0)\n",
            "Requirement already satisfied: tensorboard-data-server<0.8.0,>=0.7.0 in /usr/local/lib/python3.10/dist-packages (from tensorboard<2.15,>=2.14->tensorflow->keras-rl2) (0.7.2)\n",
            "Requirement already satisfied: werkzeug>=1.0.1 in /usr/local/lib/python3.10/dist-packages (from tensorboard<2.15,>=2.14->tensorflow->keras-rl2) (3.0.1)\n",
            "Requirement already satisfied: cachetools<6.0,>=2.0.0 in /usr/local/lib/python3.10/dist-packages (from google-auth<3,>=1.6.3->tensorboard<2.15,>=2.14->tensorflow->keras-rl2) (5.3.2)\n",
            "Requirement already satisfied: pyasn1-modules>=0.2.1 in /usr/local/lib/python3.10/dist-packages (from google-auth<3,>=1.6.3->tensorboard<2.15,>=2.14->tensorflow->keras-rl2) (0.3.0)\n",
            "Requirement already satisfied: rsa<5,>=3.1.4 in /usr/local/lib/python3.10/dist-packages (from google-auth<3,>=1.6.3->tensorboard<2.15,>=2.14->tensorflow->keras-rl2) (4.9)\n",
            "Requirement already satisfied: requests-oauthlib>=0.7.0 in /usr/local/lib/python3.10/dist-packages (from google-auth-oauthlib<1.1,>=0.5->tensorboard<2.15,>=2.14->tensorflow->keras-rl2) (1.3.1)\n",
            "Requirement already satisfied: charset-normalizer<4,>=2 in /usr/local/lib/python3.10/dist-packages (from requests<3,>=2.21.0->tensorboard<2.15,>=2.14->tensorflow->keras-rl2) (3.3.1)\n",
            "Requirement already satisfied: idna<4,>=2.5 in /usr/local/lib/python3.10/dist-packages (from requests<3,>=2.21.0->tensorboard<2.15,>=2.14->tensorflow->keras-rl2) (3.4)\n",
            "Requirement already satisfied: urllib3<3,>=1.21.1 in /usr/local/lib/python3.10/dist-packages (from requests<3,>=2.21.0->tensorboard<2.15,>=2.14->tensorflow->keras-rl2) (2.0.7)\n",
            "Requirement already satisfied: certifi>=2017.4.17 in /usr/local/lib/python3.10/dist-packages (from requests<3,>=2.21.0->tensorboard<2.15,>=2.14->tensorflow->keras-rl2) (2023.7.22)\n",
            "Requirement already satisfied: MarkupSafe>=2.1.1 in /usr/local/lib/python3.10/dist-packages (from werkzeug>=1.0.1->tensorboard<2.15,>=2.14->tensorflow->keras-rl2) (2.1.3)\n",
            "Requirement already satisfied: pyasn1<0.6.0,>=0.4.6 in /usr/local/lib/python3.10/dist-packages (from pyasn1-modules>=0.2.1->google-auth<3,>=1.6.3->tensorboard<2.15,>=2.14->tensorflow->keras-rl2) (0.5.0)\n",
            "Requirement already satisfied: oauthlib>=3.0.0 in /usr/local/lib/python3.10/dist-packages (from requests-oauthlib>=0.7.0->google-auth-oauthlib<1.1,>=0.5->tensorboard<2.15,>=2.14->tensorflow->keras-rl2) (3.2.2)\n",
            "Installing collected packages: keras-rl2\n",
            "Successfully installed keras-rl2-1.0.5\n",
            "Collecting tensorflow_addons\n",
            "  Downloading tensorflow_addons-0.22.0-cp310-cp310-manylinux_2_17_x86_64.manylinux2014_x86_64.whl (612 kB)\n",
            "\u001b[2K     \u001b[90m━━━━━━━━━━━━━━━━━━━━━━━━━━━━━━━━━━━━━━━━\u001b[0m \u001b[32m612.3/612.3 kB\u001b[0m \u001b[31m7.4 MB/s\u001b[0m eta \u001b[36m0:00:00\u001b[0m\n",
            "\u001b[?25hRequirement already satisfied: packaging in /usr/local/lib/python3.10/dist-packages (from tensorflow_addons) (23.2)\n",
            "Collecting typeguard<3.0.0,>=2.7 (from tensorflow_addons)\n",
            "  Downloading typeguard-2.13.3-py3-none-any.whl (17 kB)\n",
            "Installing collected packages: typeguard, tensorflow_addons\n",
            "Successfully installed tensorflow_addons-0.22.0 typeguard-2.13.3\n",
            "Cloning into 'WaveTF'...\n",
            "remote: Enumerating objects: 111, done.\u001b[K\n",
            "remote: Counting objects: 100% (111/111), done.\u001b[K\n",
            "remote: Compressing objects: 100% (66/66), done.\u001b[K\n",
            "remote: Total 111 (delta 64), reused 89 (delta 44), pack-reused 0\u001b[K\n",
            "Receiving objects: 100% (111/111), 37.88 KiB | 625.00 KiB/s, done.\n",
            "Resolving deltas: 100% (64/64), done.\n",
            "/content/WaveTF\n",
            "Processing /content/WaveTF\n",
            "  Preparing metadata (setup.py) ... \u001b[?25l\u001b[?25hdone\n",
            "Building wheels for collected packages: WaveTF\n",
            "  Building wheel for WaveTF (setup.py) ... \u001b[?25l\u001b[?25hdone\n",
            "  Created wheel for WaveTF: filename=WaveTF-0.1-py3-none-any.whl size=25262 sha256=5dd15f4a34dfcb11227f66f9285379c1e068d65f20bde17a2147c9654807490b\n",
            "  Stored in directory: /tmp/pip-ephem-wheel-cache-xk3ry2g8/wheels/57/8b/07/c0e602371c18b795f7156971d802abb39f244bd03197b4e9ea\n",
            "Successfully built WaveTF\n",
            "Installing collected packages: WaveTF\n",
            "Successfully installed WaveTF-0.1\n",
            "/content\n"
          ]
        }
      ],
      "source": [
        "!pip install tensorflow-wavelets\n",
        "!pip install keras-rl2\n",
        "!pip install tensorflow_addons\n",
        "\n",
        "# Installing WaveTF library\n",
        "!git clone https://github.com/fversaci/WaveTF.git\n",
        "%cd WaveTF\n",
        "!pip install .\n",
        "%cd .."
      ]
    },
    {
      "cell_type": "markdown",
      "source": [
        "# Importing Libraries"
      ],
      "metadata": {
        "id": "5iTdi_z3wjqY"
      }
    },
    {
      "cell_type": "code",
      "source": [
        "import os\n",
        "import random\n",
        "import cv2\n",
        "import numpy as np\n",
        "import nibabel as nib\n",
        "import os\n",
        "import tensorflow as tf\n",
        "from tensorflow import keras\n",
        "import tensorflow_addons as tfa\n",
        "import tensorflow_wavelets.Layers.DWT as DWT\n",
        "import tensorflow as tf\n",
        "import matplotlib.pyplot as plt"
      ],
      "metadata": {
        "id": "EqGg9EDDwZJT",
        "colab": {
          "base_uri": "https://localhost:8080/"
        },
        "outputId": "bf09b33b-7741-44b1-9b6e-866dbd659ce7"
      },
      "execution_count": null,
      "outputs": [
        {
          "output_type": "stream",
          "name": "stderr",
          "text": [
            "/usr/local/lib/python3.10/dist-packages/tensorflow_addons/utils/tfa_eol_msg.py:23: UserWarning: \n",
            "\n",
            "TensorFlow Addons (TFA) has ended development and introduction of new features.\n",
            "TFA has entered a minimal maintenance and release mode until a planned end of life in May 2024.\n",
            "Please modify downstream libraries to take dependencies from other repositories in our TensorFlow community (e.g. Keras, Keras-CV, and Keras-NLP). \n",
            "\n",
            "For more information see: https://github.com/tensorflow/addons/issues/2807 \n",
            "\n",
            "  warnings.warn(\n"
          ]
        }
      ]
    },
    {
      "cell_type": "markdown",
      "source": [
        "# IBSR Dataset Preprocessing\n"
      ],
      "metadata": {
        "id": "R3S7tWYExTIA"
      }
    },
    {
      "cell_type": "code",
      "source": [
        "from google.colab import drive\n",
        "drive.mount('/content/drive')"
      ],
      "metadata": {
        "colab": {
          "base_uri": "https://localhost:8080/"
        },
        "id": "z-y816wV-DT9",
        "outputId": "8a84e4ed-e7d2-4d8f-c50f-3f5b8c1571eb"
      },
      "execution_count": null,
      "outputs": [
        {
          "output_type": "stream",
          "name": "stdout",
          "text": [
            "Mounted at /content/drive\n"
          ]
        }
      ]
    },
    {
      "cell_type": "code",
      "source": [
        "%cd /content/drive/MyDrive/IBSR_nifti_stripped"
      ],
      "metadata": {
        "colab": {
          "base_uri": "https://localhost:8080/"
        },
        "id": "pmyvrsDS-Mdj",
        "outputId": "5a86ffea-c348-476a-e926-a50d6a11d93f"
      },
      "execution_count": null,
      "outputs": [
        {
          "output_type": "stream",
          "name": "stdout",
          "text": [
            "/content/drive/.shortcut-targets-by-id/1lOtZFcHA8hbsluikXpfm0RmbuJlfaqu2/IBSR_nifti_stripped\n"
          ]
        }
      ]
    },
    {
      "cell_type": "code",
      "source": [
        "ls"
      ],
      "metadata": {
        "colab": {
          "base_uri": "https://localhost:8080/"
        },
        "id": "oaFmLq8b-MVU",
        "outputId": "ed3473b3-5797-4dc0-a9ba-f9004787d962"
      },
      "execution_count": null,
      "outputs": [
        {
          "output_type": "stream",
          "name": "stdout",
          "text": [
            "anita_1.nii  \u001b[0m\u001b[01;34mIBSR_04\u001b[0m/  \u001b[01;34mIBSR_08\u001b[0m/  \u001b[01;34mIBSR_12\u001b[0m/  \u001b[01;34mIBSR_16\u001b[0m/  \u001b[01;34mmini_lucid_tf2\u001b[0m/   wunet.h5\n",
            "\u001b[01;34mIBSR_01\u001b[0m/     \u001b[01;34mIBSR_05\u001b[0m/  \u001b[01;34mIBSR_09\u001b[0m/  \u001b[01;34mIBSR_13\u001b[0m/  \u001b[01;34mIBSR_17\u001b[0m/  model_config2.h5  XIBSRsag.npy\n",
            "\u001b[01;34mIBSR_02\u001b[0m/     \u001b[01;34mIBSR_06\u001b[0m/  \u001b[01;34mIBSR_10\u001b[0m/  \u001b[01;34mIBSR_14\u001b[0m/  \u001b[01;34mIBSR_18\u001b[0m/  README.txt        YIBSRsag.npy\n",
            "\u001b[01;34mIBSR_03\u001b[0m/     \u001b[01;34mIBSR_07\u001b[0m/  \u001b[01;34mIBSR_11\u001b[0m/  \u001b[01;34mIBSR_15\u001b[0m/  \u001b[01;34mlogs\u001b[0m/     vnet.pt\n"
          ]
        }
      ]
    },
    {
      "cell_type": "code",
      "source": [
        "lst = [i for i in range(125)]\n",
        "test_list = random.sample(range(0, 125), 25)\n",
        "train_list = [i for i in lst if i not in test_list]\n",
        "train_list"
      ],
      "metadata": {
        "colab": {
          "base_uri": "https://localhost:8080/"
        },
        "id": "c3EpwJl9Pgo6",
        "outputId": "9b34090b-50d1-48ac-99c4-c4ef49e97d51"
      },
      "execution_count": null,
      "outputs": [
        {
          "output_type": "execute_result",
          "data": {
            "text/plain": [
              "[0,\n",
              " 1,\n",
              " 3,\n",
              " 4,\n",
              " 5,\n",
              " 6,\n",
              " 7,\n",
              " 8,\n",
              " 9,\n",
              " 10,\n",
              " 11,\n",
              " 12,\n",
              " 13,\n",
              " 14,\n",
              " 15,\n",
              " 16,\n",
              " 18,\n",
              " 19,\n",
              " 21,\n",
              " 22,\n",
              " 23,\n",
              " 24,\n",
              " 25,\n",
              " 26,\n",
              " 27,\n",
              " 28,\n",
              " 29,\n",
              " 30,\n",
              " 31,\n",
              " 32,\n",
              " 33,\n",
              " 34,\n",
              " 35,\n",
              " 37,\n",
              " 40,\n",
              " 41,\n",
              " 42,\n",
              " 43,\n",
              " 44,\n",
              " 45,\n",
              " 46,\n",
              " 48,\n",
              " 51,\n",
              " 52,\n",
              " 55,\n",
              " 56,\n",
              " 57,\n",
              " 60,\n",
              " 61,\n",
              " 62,\n",
              " 63,\n",
              " 66,\n",
              " 67,\n",
              " 68,\n",
              " 69,\n",
              " 70,\n",
              " 71,\n",
              " 73,\n",
              " 74,\n",
              " 75,\n",
              " 76,\n",
              " 77,\n",
              " 79,\n",
              " 80,\n",
              " 81,\n",
              " 82,\n",
              " 83,\n",
              " 84,\n",
              " 86,\n",
              " 87,\n",
              " 88,\n",
              " 89,\n",
              " 90,\n",
              " 92,\n",
              " 93,\n",
              " 94,\n",
              " 95,\n",
              " 96,\n",
              " 99,\n",
              " 100,\n",
              " 104,\n",
              " 105,\n",
              " 106,\n",
              " 107,\n",
              " 108,\n",
              " 109,\n",
              " 110,\n",
              " 111,\n",
              " 112,\n",
              " 113,\n",
              " 114,\n",
              " 115,\n",
              " 116,\n",
              " 117,\n",
              " 118,\n",
              " 119,\n",
              " 120,\n",
              " 121,\n",
              " 123,\n",
              " 124]"
            ]
          },
          "metadata": {},
          "execution_count": 6
        }
      ]
    },
    {
      "cell_type": "code",
      "source": [
        "Droot = '/content/drive/MyDrive/IBSR_nifti_stripped'\n",
        "\n",
        "import os\n",
        "dirs = os.listdir(Droot)\n",
        "dirs\n",
        "\n",
        "dirs = [_ for _ in dirs if os.path.isdir(os.path.join(Droot,_))]\n",
        "dirs\n",
        "\n",
        "h1 = '_ana.nii.gz'\n",
        "h2 = '_ana_brainmask.nii.gz'\n",
        "h3 = '_ana_strip.nii.gz'\n",
        "\n",
        "global vimgs, vimgs_mask\n",
        "vimgs = [os.path.join(Droot,d,_) for d in dirs for _ in os.listdir(os.path.join(Droot,d)) if _.endswith(h1) and _.startswith('I') and len(_)<19]\n",
        "vimgs_mask = [os.path.join(Droot,d,_) for d in dirs for _ in os.listdir(os.path.join(Droot,d)) if _.endswith(h2) and _.startswith('I')]# and len(_)<16]\n",
        "#vimgs_strip = [os.path.join(Droot,d,_) for d in dirs for _ in os.listdir(os.path.join(Droot,d)) if _.endswith(h3) and _.startswith('I')]# and len(_)<16]\n",
        "vimgs"
      ],
      "metadata": {
        "colab": {
          "base_uri": "https://localhost:8080/"
        },
        "id": "Ppj4vnFq-XRb",
        "outputId": "71e0e8a2-fd6a-483c-e6ea-32b71c991084"
      },
      "execution_count": null,
      "outputs": [
        {
          "output_type": "execute_result",
          "data": {
            "text/plain": [
              "['/content/drive/MyDrive/IBSR_nifti_stripped/IBSR_14/IBSR_14_ana.nii.gz',\n",
              " '/content/drive/MyDrive/IBSR_nifti_stripped/IBSR_12/IBSR_12_ana.nii.gz',\n",
              " '/content/drive/MyDrive/IBSR_nifti_stripped/IBSR_10/IBSR_10_ana.nii.gz',\n",
              " '/content/drive/MyDrive/IBSR_nifti_stripped/IBSR_11/IBSR_11_ana.nii.gz',\n",
              " '/content/drive/MyDrive/IBSR_nifti_stripped/IBSR_18/IBSR_18_ana.nii.gz',\n",
              " '/content/drive/MyDrive/IBSR_nifti_stripped/IBSR_16/IBSR_16_ana.nii.gz',\n",
              " '/content/drive/MyDrive/IBSR_nifti_stripped/IBSR_15/IBSR_15_ana.nii.gz',\n",
              " '/content/drive/MyDrive/IBSR_nifti_stripped/IBSR_13/IBSR_13_ana.nii.gz',\n",
              " '/content/drive/MyDrive/IBSR_nifti_stripped/IBSR_17/IBSR_17_ana.nii.gz',\n",
              " '/content/drive/MyDrive/IBSR_nifti_stripped/IBSR_09/IBSR_09_ana.nii.gz',\n",
              " '/content/drive/MyDrive/IBSR_nifti_stripped/IBSR_07/IBSR_07_ana.nii.gz',\n",
              " '/content/drive/MyDrive/IBSR_nifti_stripped/IBSR_04/IBSR_04_ana.nii.gz',\n",
              " '/content/drive/MyDrive/IBSR_nifti_stripped/IBSR_02/IBSR_02_ana.nii.gz',\n",
              " '/content/drive/MyDrive/IBSR_nifti_stripped/IBSR_08/IBSR_08_ana.nii.gz',\n",
              " '/content/drive/MyDrive/IBSR_nifti_stripped/IBSR_01/IBSR_01_ana.nii.gz',\n",
              " '/content/drive/MyDrive/IBSR_nifti_stripped/IBSR_03/IBSR_03_ana.nii.gz',\n",
              " '/content/drive/MyDrive/IBSR_nifti_stripped/IBSR_06/IBSR_06_ana.nii.gz',\n",
              " '/content/drive/MyDrive/IBSR_nifti_stripped/IBSR_05/IBSR_05_ana.nii.gz']"
            ]
          },
          "metadata": {},
          "execution_count": 7
        }
      ]
    },
    {
      "cell_type": "code",
      "source": [
        "vimgs_mask"
      ],
      "metadata": {
        "colab": {
          "base_uri": "https://localhost:8080/"
        },
        "id": "4WrMbz44-XLn",
        "outputId": "07ab9b75-70be-4e1f-efd5-34bc17c556ce"
      },
      "execution_count": null,
      "outputs": [
        {
          "output_type": "execute_result",
          "data": {
            "text/plain": [
              "['/content/drive/MyDrive/IBSR_nifti_stripped/IBSR_14/IBSR_14_ana_brainmask.nii.gz',\n",
              " '/content/drive/MyDrive/IBSR_nifti_stripped/IBSR_12/IBSR_12_ana_brainmask.nii.gz',\n",
              " '/content/drive/MyDrive/IBSR_nifti_stripped/IBSR_10/IBSR_10_ana_brainmask.nii.gz',\n",
              " '/content/drive/MyDrive/IBSR_nifti_stripped/IBSR_11/IBSR_11_ana_brainmask.nii.gz',\n",
              " '/content/drive/MyDrive/IBSR_nifti_stripped/IBSR_18/IBSR_18_ana_brainmask.nii.gz',\n",
              " '/content/drive/MyDrive/IBSR_nifti_stripped/IBSR_16/IBSR_16_ana_brainmask.nii.gz',\n",
              " '/content/drive/MyDrive/IBSR_nifti_stripped/IBSR_15/IBSR_15_ana_brainmask.nii.gz',\n",
              " '/content/drive/MyDrive/IBSR_nifti_stripped/IBSR_13/IBSR_13_ana_brainmask.nii.gz',\n",
              " '/content/drive/MyDrive/IBSR_nifti_stripped/IBSR_17/IBSR_17_ana_brainmask.nii.gz',\n",
              " '/content/drive/MyDrive/IBSR_nifti_stripped/IBSR_09/IBSR_09_ana_brainmask.nii.gz',\n",
              " '/content/drive/MyDrive/IBSR_nifti_stripped/IBSR_07/IBSR_07_ana_brainmask.nii.gz',\n",
              " '/content/drive/MyDrive/IBSR_nifti_stripped/IBSR_04/IBSR_04_ana_brainmask.nii.gz',\n",
              " '/content/drive/MyDrive/IBSR_nifti_stripped/IBSR_02/IBSR_02_ana_brainmask.nii.gz',\n",
              " '/content/drive/MyDrive/IBSR_nifti_stripped/IBSR_08/IBSR_08_ana_brainmask.nii.gz',\n",
              " '/content/drive/MyDrive/IBSR_nifti_stripped/IBSR_01/IBSR_01_ana_brainmask.nii.gz',\n",
              " '/content/drive/MyDrive/IBSR_nifti_stripped/IBSR_03/IBSR_03_ana_brainmask.nii.gz',\n",
              " '/content/drive/MyDrive/IBSR_nifti_stripped/IBSR_06/IBSR_06_ana_brainmask.nii.gz',\n",
              " '/content/drive/MyDrive/IBSR_nifti_stripped/IBSR_05/IBSR_05_ana_brainmask.nii.gz']"
            ]
          },
          "metadata": {},
          "execution_count": 8
        }
      ]
    },
    {
      "cell_type": "code",
      "source": [
        "data_paths = [(_1,_2) for _1,_2 in zip(vimgs,vimgs_mask)]\n",
        "data_paths\n",
        "\n",
        "del Droot, vimgs, vimgs_mask, h1, h2, dirs\n",
        "\n",
        "data_paths\n",
        "\n",
        "import nibabel as nib\n",
        "import scipy.ndimage as ndi\n",
        "import matplotlib.pyplot as plt\n",
        "import os\n",
        "\n",
        "data = [(nib.load(_[0]).get_fdata(), nib.load(_[1]).get_fdata()) for _ in data_paths]\n",
        "type(data)\n",
        "# print(data.shape)\n",
        "\n",
        "import numpy as np\n",
        "vimgs = np.array([_[0] for _ in data])\n",
        "vimgs.shape\n",
        "\n",
        "vimgs_mask = np.array([_[1] for _ in data])\n",
        "vimgs_mask.shape"
      ],
      "metadata": {
        "colab": {
          "base_uri": "https://localhost:8080/"
        },
        "id": "Jo56U2K6-hzj",
        "outputId": "c3d01240-6b51-462f-90d1-2ff62566bfdd"
      },
      "execution_count": null,
      "outputs": [
        {
          "output_type": "execute_result",
          "data": {
            "text/plain": [
              "(18, 256, 128, 256, 1)"
            ]
          },
          "metadata": {},
          "execution_count": 9
        }
      ]
    },
    {
      "cell_type": "code",
      "source": [
        "vimgs.shape"
      ],
      "metadata": {
        "colab": {
          "base_uri": "https://localhost:8080/"
        },
        "id": "4MDpQp9y-hvj",
        "outputId": "a57a466b-71ab-45c8-b652-bc80ea026b73"
      },
      "execution_count": null,
      "outputs": [
        {
          "output_type": "execute_result",
          "data": {
            "text/plain": [
              "(18, 256, 256, 128, 1)"
            ]
          },
          "metadata": {},
          "execution_count": 10
        }
      ]
    },
    {
      "cell_type": "code",
      "source": [
        "# FIX orientation of volumetric images\n",
        "vimgs_ = np.zeros(vimgs_mask.shape, dtype=np.uint8)\n",
        "vimgs_.shape\n",
        "from scipy.ndimage import rotate\n",
        "A = vimgs\n",
        "for idx in range(vimgs.shape[0]):\n",
        "    a = A[idx]\n",
        "\n",
        "    #Align orientation of images with masks\n",
        "    a = rotate(a, 180, axes=(1, 0), reshape=False)\n",
        "    print(a.shape, 'rot1')\n",
        "    a = rotate(a, -90, axes=(1, 2), reshape=True)\n",
        "    print(a.shape, 'rot2')\n",
        "\n",
        "    vimgs_[idx] = a\n",
        "vimgs_.shape"
      ],
      "metadata": {
        "colab": {
          "base_uri": "https://localhost:8080/"
        },
        "id": "qbrnJQSG-hrT",
        "outputId": "d9d879fc-a928-4fa6-d90d-2cd94b593840"
      },
      "execution_count": null,
      "outputs": [
        {
          "output_type": "stream",
          "name": "stdout",
          "text": [
            "(256, 256, 128, 1) rot1\n",
            "(256, 128, 256, 1) rot2\n",
            "(256, 256, 128, 1) rot1\n",
            "(256, 128, 256, 1) rot2\n",
            "(256, 256, 128, 1) rot1\n",
            "(256, 128, 256, 1) rot2\n",
            "(256, 256, 128, 1) rot1\n",
            "(256, 128, 256, 1) rot2\n",
            "(256, 256, 128, 1) rot1\n",
            "(256, 128, 256, 1) rot2\n",
            "(256, 256, 128, 1) rot1\n",
            "(256, 128, 256, 1) rot2\n",
            "(256, 256, 128, 1) rot1\n",
            "(256, 128, 256, 1) rot2\n",
            "(256, 256, 128, 1) rot1\n",
            "(256, 128, 256, 1) rot2\n",
            "(256, 256, 128, 1) rot1\n",
            "(256, 128, 256, 1) rot2\n",
            "(256, 256, 128, 1) rot1\n",
            "(256, 128, 256, 1) rot2\n",
            "(256, 256, 128, 1) rot1\n",
            "(256, 128, 256, 1) rot2\n",
            "(256, 256, 128, 1) rot1\n",
            "(256, 128, 256, 1) rot2\n",
            "(256, 256, 128, 1) rot1\n",
            "(256, 128, 256, 1) rot2\n",
            "(256, 256, 128, 1) rot1\n",
            "(256, 128, 256, 1) rot2\n",
            "(256, 256, 128, 1) rot1\n",
            "(256, 128, 256, 1) rot2\n",
            "(256, 256, 128, 1) rot1\n",
            "(256, 128, 256, 1) rot2\n",
            "(256, 256, 128, 1) rot1\n",
            "(256, 128, 256, 1) rot2\n",
            "(256, 256, 128, 1) rot1\n",
            "(256, 128, 256, 1) rot2\n"
          ]
        },
        {
          "output_type": "execute_result",
          "data": {
            "text/plain": [
              "(18, 256, 128, 256, 1)"
            ]
          },
          "metadata": {},
          "execution_count": 11
        }
      ]
    },
    {
      "cell_type": "code",
      "source": [
        "import random\n",
        "k= random.randint(0,17)\n",
        "i= random.randint(0,vimgs_.shape[1])\n",
        "print(f\"volume #{k}, slice #{i}\")\n",
        "plt.figure(figsize=(8,4))\n",
        "plt.subplot(121), plt.imshow(vimgs_[k,i,:,:,0]), plt.title('image')\n",
        "plt.subplot(122), plt.imshow(vimgs_mask[k,i,:,:,0]), plt.title('mask')"
      ],
      "metadata": {
        "colab": {
          "base_uri": "https://localhost:8080/",
          "height": 292
        },
        "id": "EAV7d2t6-vvT",
        "outputId": "6657f231-cf29-484e-c542-9043c2b6c669"
      },
      "execution_count": null,
      "outputs": [
        {
          "output_type": "stream",
          "name": "stdout",
          "text": [
            "volume #5, slice #20\n"
          ]
        },
        {
          "output_type": "execute_result",
          "data": {
            "text/plain": [
              "(<Axes: title={'center': 'mask'}>,\n",
              " <matplotlib.image.AxesImage at 0x7fa0c7c9a920>,\n",
              " Text(0.5, 1.0, 'mask'))"
            ]
          },
          "metadata": {},
          "execution_count": 12
        },
        {
          "output_type": "display_data",
          "data": {
            "text/plain": [
              "<Figure size 800x400 with 2 Axes>"
            ],
            "image/png": "[encoded data removed]"
          },
          "metadata": {}
        }
      ]
    },
    {
      "cell_type": "code",
      "source": [
        "# FIX SIZE: MAKE CUBE NxNxN\n",
        "import tensorflow as tf\n",
        "vimgs__ = np.zeros((18, 256, 256, 256, 1), dtype=np.uint8)\n",
        "for k in range(18):\n",
        "    _ = tf.image.resize(\n",
        "        vimgs_[k],\n",
        "        size=[256,256],\n",
        "        method='bilinear',\n",
        "        preserve_aspect_ratio=False,\n",
        "        antialias=False,\n",
        "        name=None\n",
        "        )\n",
        "    vimgs__[k]=_\n",
        "print(vimgs__.shape)\n",
        "del vimgs\n",
        "vimgs=vimgs__\n",
        "del vimgs__\n",
        "vimgs.shape"
      ],
      "metadata": {
        "colab": {
          "base_uri": "https://localhost:8080/"
        },
        "id": "5hLGlJz3-wxq",
        "outputId": "4f630d54-19c7-471b-f26d-9aab0740690b"
      },
      "execution_count": null,
      "outputs": [
        {
          "output_type": "stream",
          "name": "stdout",
          "text": [
            "(18, 256, 256, 256, 1)\n"
          ]
        },
        {
          "output_type": "execute_result",
          "data": {
            "text/plain": [
              "(18, 256, 256, 256, 1)"
            ]
          },
          "metadata": {},
          "execution_count": 13
        }
      ]
    },
    {
      "cell_type": "code",
      "source": [
        "# Mask FIX SIZE: MAKE CUBE NxNxN\n",
        "import tensorflow as tf\n",
        "vimgs_mask__ = np.zeros((18, 256, 256, 256, 1), dtype=np.uint8)\n",
        "for k in range(18):\n",
        "    _ = tf.image.resize(\n",
        "        vimgs_mask[k],\n",
        "        size=[256,256],\n",
        "        method='bilinear',\n",
        "        preserve_aspect_ratio=False,\n",
        "        antialias=False,\n",
        "        name=None\n",
        "        )\n",
        "    vimgs_mask__[k]=_\n",
        "print(vimgs_mask__.shape)\n",
        "del vimgs_mask\n",
        "vimgs_mask = vimgs_mask__\n",
        "del vimgs_mask__"
      ],
      "metadata": {
        "id": "Ju7T29Or-wry",
        "colab": {
          "base_uri": "https://localhost:8080/"
        },
        "outputId": "1ac2ed1c-6a0b-44d4-c5c6-c8810536e5f0"
      },
      "execution_count": null,
      "outputs": [
        {
          "output_type": "stream",
          "name": "stdout",
          "text": [
            "(18, 256, 256, 256, 1)\n"
          ]
        }
      ]
    },
    {
      "cell_type": "code",
      "source": [
        "import random\n",
        "v= random.randint(0,17)\n",
        "i, j, k = random.randint(0,vimgs_.shape[1]), random.randint(0,vimgs_.shape[2]), random.randint(0,vimgs_.shape[3])\n",
        "print(f\"volume #{k}, slice #{i}\")\n",
        "plt.figure(figsize=(6,10))\n",
        "plt.subplot(321), plt.imshow(vimgs[v,i,:,:,0]), plt.title('image')\n",
        "plt.subplot(322), plt.imshow(vimgs_mask[v,i,:,:,0]), plt.title('mask')\n",
        "plt.subplot(323), plt.imshow(vimgs[v,:,j,:,0])\n",
        "plt.subplot(324), plt.imshow(vimgs_mask[v,:,j,:,0])\n",
        "plt.subplot(325), plt.imshow(vimgs[v,:,:,k,0])\n",
        "plt.subplot(326), plt.imshow(vimgs_mask[v,:,:,k,0])"
      ],
      "metadata": {
        "id": "jicl5e5t_ESq",
        "colab": {
          "base_uri": "https://localhost:8080/",
          "height": 872
        },
        "outputId": "13c526c1-c413-463a-e049-401995f10c66"
      },
      "execution_count": null,
      "outputs": [
        {
          "output_type": "stream",
          "name": "stdout",
          "text": [
            "volume #8, slice #34\n"
          ]
        },
        {
          "output_type": "execute_result",
          "data": {
            "text/plain": [
              "(<Axes: >, <matplotlib.image.AxesImage at 0x7fa0c62e4100>)"
            ]
          },
          "metadata": {},
          "execution_count": 15
        },
        {
          "output_type": "display_data",
          "data": {
            "text/plain": [
              "<Figure size 600x1000 with 6 Axes>"
            ],
            "image/png": "[encoded data removed]"
          },
          "metadata": {}
        }
      ]
    },
    {
      "cell_type": "code",
      "source": [
        "whos"
      ],
      "metadata": {
        "id": "hHfK9d8R_Isr",
        "colab": {
          "base_uri": "https://localhost:8080/"
        },
        "outputId": "795ced8d-43ec-4e40-cec4-0b856d77cac0"
      },
      "execution_count": null,
      "outputs": [
        {
          "output_type": "stream",
          "name": "stdout",
          "text": [
            "Variable     Type          Data/Info\n",
            "------------------------------------\n",
            "A            ndarray       18x256x256x128x1: 150994944 elems, type `float64`, 1207959552 bytes (1152.0 Mb)\n",
            "DWT          module        <module 'tensorflow_wavel<...>_wavelets/Layers/DWT.py'>\n",
            "a            ndarray       256x128x256x1: 8388608 elems, type `float64`, 67108864 bytes (64.0 Mb)\n",
            "cv2          module        <module 'cv2' from '/usr/<...>ackages/cv2/__init__.py'>\n",
            "data         list          n=18\n",
            "data_paths   list          n=18\n",
            "drive        module        <module 'google.colab.dri<...>s/google/colab/drive.py'>\n",
            "h3           str           _ana_strip.nii.gz\n",
            "i            int           34\n",
            "idx          int           17\n",
            "j            int           42\n",
            "k            int           8\n",
            "keras        LazyLoader    <LazyLoader keras.api._v2.keras as keras>\n",
            "lst          list          n=125\n",
            "ndi          module        <module 'scipy.ndimage' f<...>ipy/ndimage/__init__.py'>\n",
            "nib          module        <module 'nibabel' from '/<...>ges/nibabel/__init__.py'>\n",
            "np           module        <module 'numpy' from '/us<...>kages/numpy/__init__.py'>\n",
            "os           module        <module 'os' from '/usr/lib/python3.10/os.py'>\n",
            "plt          module        <module 'matplotlib.pyplo<...>es/matplotlib/pyplot.py'>\n",
            "random       module        <module 'random' from '/u<...>ib/python3.10/random.py'>\n",
            "rotate       function      <function rotate at 0x7fa0c83eab90>\n",
            "test_list    list          n=25\n",
            "tf           module        <module 'tensorflow' from<...>/tensorflow/__init__.py'>\n",
            "tfa          module        <module 'tensorflow_addon<...>flow_addons/__init__.py'>\n",
            "train_list   list          n=100\n",
            "v            int           15\n",
            "vimgs        ndarray       18x256x256x256x1: 301989888 elems, type `uint8`, 301989888 bytes (288.0 Mb)\n",
            "vimgs_       ndarray       18x256x128x256x1: 150994944 elems, type `uint8`, 150994944 bytes (144.0 Mb)\n",
            "vimgs_mask   ndarray       18x256x256x256x1: 301989888 elems, type `uint8`, 301989888 bytes (288.0 Mb)\n"
          ]
        }
      ]
    },
    {
      "cell_type": "code",
      "source": [
        "IMG_WIDTH = 256\n",
        "IMG_HEIGHT = 256\n",
        "IMG_CHANNELS = 1\n",
        "\n",
        "def XYtrain_unit(uid):\n",
        "    global vimgs, vimgs_mask\n",
        "    vx_ = vimgs[uid]\n",
        "    vy_ = vimgs_mask[uid]\n",
        "    vx_.shape\n",
        "\n",
        "    X_train = np.zeros((vx_.shape[1], IMG_HEIGHT, IMG_WIDTH, IMG_CHANNELS), dtype=np.uint8)\n",
        "    Y_train = np.zeros((vx_.shape[1], IMG_HEIGHT, IMG_WIDTH, 1), dtype=bool)\n",
        "\n",
        "    X_train.shape\n",
        "    for slic_id in range(vx_.shape[1]):\n",
        "       _x = ndi.rotate(vx_[slic_id,:,:,0],90)\n",
        "       _x = np.fliplr(_x)\n",
        "       _y = np.uint8(ndi.rotate(vy_[slic_id,:,:,0].T,180))\n",
        "\n",
        "       X_train[slic_id] = _x.reshape((_x.shape[0],_x.shape[1],1))\n",
        "       Y_train[slic_id] = _y.reshape((_y.shape[0],_y.shape[1],1))\n",
        "\n",
        "    return X_train, Y_train\n",
        "\n",
        "XY = []\n",
        "for uid in range(vimgs.shape[0]):\n",
        "    XY.append(XYtrain_unit(uid))\n",
        "\n",
        "type(XY[0][0])\n",
        "XY[0][0].shape\n",
        "XY[0][1].shape\n",
        "\n",
        "X = XY[0][0]\n",
        "Y = XY[0][1]\n",
        "for _ in XY[1:]:\n",
        "    X = np.concatenate([X, _[0]])\n",
        "    Y = np.concatenate([Y, _[1]])\n",
        "print(X.shape)\n",
        "X.shape==Y.shape"
      ],
      "metadata": {
        "id": "Cl2jtOEz_MqG",
        "colab": {
          "base_uri": "https://localhost:8080/"
        },
        "outputId": "4186795e-8d30-4038-f0b9-e84bfbe5c4f7"
      },
      "execution_count": null,
      "outputs": [
        {
          "output_type": "stream",
          "name": "stdout",
          "text": [
            "(4608, 256, 256, 1)\n"
          ]
        },
        {
          "output_type": "execute_result",
          "data": {
            "text/plain": [
              "True"
            ]
          },
          "metadata": {},
          "execution_count": 17
        }
      ]
    },
    {
      "cell_type": "code",
      "source": [
        "%cd  '/content'"
      ],
      "metadata": {
        "colab": {
          "base_uri": "https://localhost:8080/"
        },
        "id": "dsD7VEAWnZ7i",
        "outputId": "fef2a2e2-2e29-492c-cc4c-a7740dc88ced"
      },
      "execution_count": null,
      "outputs": [
        {
          "output_type": "stream",
          "name": "stdout",
          "text": [
            "/content\n"
          ]
        }
      ]
    },
    {
      "cell_type": "code",
      "source": [
        "with open('XIBSRsag.npy', 'wb') as f:\n",
        "    np.save(f, X)\n",
        "with open('YIBSRsag.npy', 'wb') as f:\n",
        "    np.save(f, Y)"
      ],
      "metadata": {
        "id": "Fn-278lC_Mmb"
      },
      "execution_count": null,
      "outputs": []
    },
    {
      "cell_type": "code",
      "source": [
        "whos\n"
      ],
      "metadata": {
        "colab": {
          "base_uri": "https://localhost:8080/"
        },
        "id": "jUiqbtXOnGO_",
        "outputId": "839d14bc-80b6-4de5-db2d-fbe95a0d0296"
      },
      "execution_count": null,
      "outputs": [
        {
          "output_type": "stream",
          "name": "stdout",
          "text": [
            "Variable       Type              Data/Info\n",
            "------------------------------------------\n",
            "A              ndarray           18x256x256x128x1: 150994944 elems, type `float64`, 1207959552 bytes (1152.0 Mb)\n",
            "DWT            module            <module 'tensorflow_wavel<...>_wavelets/Layers/DWT.py'>\n",
            "IMG_CHANNELS   int               1\n",
            "IMG_HEIGHT     int               256\n",
            "IMG_WIDTH      int               256\n",
            "X              ndarray           4608x256x256x1: 301989888 elems, type `uint8`, 301989888 bytes (288.0 Mb)\n",
            "XY             list              n=18\n",
            "XYtrain_unit   function          <function XYtrain_unit at 0x7f9fee23f9a0>\n",
            "Y              ndarray           4608x256x256x1: 301989888 elems, type `bool`, 301989888 bytes (288.0 Mb)\n",
            "a              ndarray           256x128x256x1: 8388608 elems, type `float64`, 67108864 bytes (64.0 Mb)\n",
            "cv2            module            <module 'cv2' from '/usr/<...>ackages/cv2/__init__.py'>\n",
            "data           list              n=18\n",
            "data_paths     list              n=18\n",
            "drive          module            <module 'google.colab.dri<...>s/google/colab/drive.py'>\n",
            "f              BufferedWriter    <_io.BufferedWriter name='YIBSRsag.npy'>\n",
            "h3             str               _ana_strip.nii.gz\n",
            "i              int               34\n",
            "idx            int               17\n",
            "j              int               42\n",
            "k              int               8\n",
            "keras          LazyLoader        <LazyLoader keras.api._v2.keras as keras>\n",
            "lst            list              n=125\n",
            "ndi            module            <module 'scipy.ndimage' f<...>ipy/ndimage/__init__.py'>\n",
            "nib            module            <module 'nibabel' from '/<...>ges/nibabel/__init__.py'>\n",
            "np             module            <module 'numpy' from '/us<...>kages/numpy/__init__.py'>\n",
            "os             module            <module 'os' from '/usr/lib/python3.10/os.py'>\n",
            "plt            module            <module 'matplotlib.pyplo<...>es/matplotlib/pyplot.py'>\n",
            "random         module            <module 'random' from '/u<...>ib/python3.10/random.py'>\n",
            "rotate         function          <function rotate at 0x7fa0c83eab90>\n",
            "test_list      list              n=25\n",
            "tf             module            <module 'tensorflow' from<...>/tensorflow/__init__.py'>\n",
            "tfa            module            <module 'tensorflow_addon<...>flow_addons/__init__.py'>\n",
            "train_list     list              n=100\n",
            "uid            int               17\n",
            "v              int               15\n",
            "vimgs          ndarray           18x256x256x256x1: 301989888 elems, type `uint8`, 301989888 bytes (288.0 Mb)\n",
            "vimgs_         ndarray           18x256x128x256x1: 150994944 elems, type `uint8`, 150994944 bytes (144.0 Mb)\n",
            "vimgs_mask     ndarray           18x256x256x256x1: 301989888 elems, type `uint8`, 301989888 bytes (288.0 Mb)\n"
          ]
        }
      ]
    },
    {
      "cell_type": "code",
      "source": [
        "del X, Y"
      ],
      "metadata": {
        "id": "4vJk605t_Md2"
      },
      "execution_count": null,
      "outputs": []
    },
    {
      "cell_type": "code",
      "source": [
        "import numpy as np\n",
        "with open('XIBSRsag.npy', 'rb') as f:\n",
        "    X = np.load(f)\n",
        "with open('YIBSRsag.npy', 'rb') as f:\n",
        "    Y = np.load(f)"
      ],
      "metadata": {
        "id": "mcf85D_h_dby"
      },
      "execution_count": null,
      "outputs": []
    },
    {
      "cell_type": "code",
      "source": [
        "import tensorflow as tf\n",
        "import os\n",
        "import numpy as np\n",
        "from tqdm import tqdm\n",
        "from skimage.io import imread, imshow\n",
        "import matplotlib.pyplot as plt\n",
        "p = int(16*256)\n",
        "\n",
        "X_train, Y_train = X[:p,:,:,:], Y[:p,:,:,:]\n",
        "X_test, Y_test = X[p:,:,:,:], Y[p:,:,:,:] # note y_test is to check accuracy\n",
        "\n",
        "X_train.shape==Y_train.shape\n",
        "X_train.shape\n",
        "\n",
        "X_test.shape=Y_test.shape\n",
        "X_test.shape"
      ],
      "metadata": {
        "id": "VudX29_l_dO6",
        "colab": {
          "base_uri": "https://localhost:8080/"
        },
        "outputId": "1689ebb3-4aec-457b-d180-2aec634dde1a"
      },
      "execution_count": null,
      "outputs": [
        {
          "output_type": "execute_result",
          "data": {
            "text/plain": [
              "(512, 256, 256, 1)"
            ]
          },
          "metadata": {},
          "execution_count": 41
        }
      ]
    },
    {
      "cell_type": "code",
      "source": [
        "import random\n",
        "seed = 42\n",
        "np.random.seed = seed\n",
        "\n",
        "image_x = random.randint(0, X_train.shape[0])\n",
        "plt.subplot(221), plt.imshow(X_train[image_x]), plt.title('Train image (random)')\n",
        "plt.subplot(222), imshow(np.squeeze(Y_train[image_x])), plt.title('Train mask')\n",
        "plt.show()\n",
        "\n",
        "image_x_test = random.randint(0, X_test.shape[0])\n",
        "plt.subplot(223), plt.imshow(X_train[image_x_test]),plt.title('Test image (random')\n",
        "plt.subplot(224), imshow(np.squeeze(Y_train[image_x_test])),plt.title('Test image')\n",
        "plt.show()"
      ],
      "metadata": {
        "id": "GoGOp4gG_dL6",
        "colab": {
          "base_uri": "https://localhost:8080/",
          "height": 537
        },
        "outputId": "151da31d-1962-48e0-8f98-d890aed63cd0"
      },
      "execution_count": null,
      "outputs": [
        {
          "output_type": "display_data",
          "data": {
            "text/plain": [
              "<Figure size 640x480 with 2 Axes>"
            ],
            "image/png": "[encoded data removed]"
          },
          "metadata": {}
        },
        {
          "output_type": "display_data",
          "data": {
            "text/plain": [
              "<Figure size 640x480 with 2 Axes>"
            ],
            "image/png": "[encoded data removed]"
          },
          "metadata": {}
        }
      ]
    },
    {
      "cell_type": "code",
      "source": [
        "#Build the model\n",
        "#inputs = tf.keras.layers.Input((IMG_HEIGHT, IMG_WIDTH, IMG_CHANNELS))\n",
        "IMG_WIDTH = 256\n",
        "IMG_HEIGHT = 256\n",
        "IMG_CHANNELS = 1\n",
        "\n",
        "T_resize = tf.keras.Sequential(\n",
        "    [\n",
        "        tf.keras.layers.Input((IMG_HEIGHT, IMG_WIDTH, IMG_CHANNELS)),\n",
        "        tf.keras.layers.Resizing(\n",
        "            height=256,\n",
        "            width=256,\n",
        "            interpolation='bilinear',\n",
        "            crop_to_aspect_ratio=False\n",
        "        )\n",
        "    ])\n",
        "\n",
        "#model = tf.keras.Model(inputs=[inputs], outputs=[outputs])\n",
        "#model.compile(optimizer='adam', loss='binary_crossentropy', metrics=['accuracy'])\n",
        "T_resize.summary()"
      ],
      "metadata": {
        "id": "nOU24Q_N_dI6",
        "colab": {
          "base_uri": "https://localhost:8080/"
        },
        "outputId": "4329209f-e3b8-46c4-d9c9-d05a2c1cfefa"
      },
      "execution_count": null,
      "outputs": [
        {
          "output_type": "stream",
          "name": "stdout",
          "text": [
            "Model: \"sequential_1\"\n",
            "_________________________________________________________________\n",
            " Layer (type)                Output Shape              Param #   \n",
            "=================================================================\n",
            " resizing_1 (Resizing)       (None, 256, 256, 1)       0         \n",
            "                                                                 \n",
            "=================================================================\n",
            "Total params: 0 (0.00 Byte)\n",
            "Trainable params: 0 (0.00 Byte)\n",
            "Non-trainable params: 0 (0.00 Byte)\n",
            "_________________________________________________________________\n"
          ]
        }
      ]
    },
    {
      "cell_type": "code",
      "source": [
        "print(Y_train.shape)\n",
        "X_train.shape"
      ],
      "metadata": {
        "id": "zb6KaRKH_dFi",
        "colab": {
          "base_uri": "https://localhost:8080/"
        },
        "outputId": "9cf294a3-e9c9-4a20-bceb-a8b5b60d18ab"
      },
      "execution_count": null,
      "outputs": [
        {
          "output_type": "stream",
          "name": "stdout",
          "text": [
            "(4096, 256, 256, 1)\n"
          ]
        },
        {
          "output_type": "execute_result",
          "data": {
            "text/plain": [
              "(4096, 256, 256, 1)"
            ]
          },
          "metadata": {},
          "execution_count": 44
        }
      ]
    },
    {
      "cell_type": "code",
      "source": [
        "X_train = T_resize.predict(X_train)\n",
        "Y_train = T_resize.predict(Y_train)\n",
        "print(X_train.shape==Y_train.shape)\n",
        "X_train.shape"
      ],
      "metadata": {
        "id": "21Sq3jATAagJ",
        "colab": {
          "base_uri": "https://localhost:8080/"
        },
        "outputId": "3fa4ca1c-dd36-43c5-abfe-d1ffe2a08978"
      },
      "execution_count": null,
      "outputs": [
        {
          "output_type": "stream",
          "name": "stdout",
          "text": [
            "128/128 [==============================] - 0s 3ms/step\n",
            "128/128 [==============================] - 0s 2ms/step\n",
            "True\n"
          ]
        },
        {
          "output_type": "execute_result",
          "data": {
            "text/plain": [
              "(4096, 256, 256, 1)"
            ]
          },
          "metadata": {},
          "execution_count": 45
        }
      ]
    },
    {
      "cell_type": "code",
      "source": [
        "X_test = T_resize.predict(X_test)\n",
        "Y_test = T_resize.predict(Y_test)\n",
        "print(X_test.shape==Y_test.shape)\n",
        "\n",
        "X_test.shape"
      ],
      "metadata": {
        "id": "DJG_oTENAadB",
        "colab": {
          "base_uri": "https://localhost:8080/"
        },
        "outputId": "104e0e24-837b-44ae-c24a-559a459d1379"
      },
      "execution_count": null,
      "outputs": [
        {
          "output_type": "stream",
          "name": "stdout",
          "text": [
            "16/16 [==============================] - 0s 2ms/step\n",
            "16/16 [==============================] - 0s 2ms/step\n",
            "True\n"
          ]
        },
        {
          "output_type": "execute_result",
          "data": {
            "text/plain": [
              "(512, 256, 256, 1)"
            ]
          },
          "metadata": {},
          "execution_count": 46
        }
      ]
    },
    {
      "cell_type": "code",
      "source": [
        "import random\n",
        "seed = 42\n",
        "np.random.seed = seed\n",
        "\n",
        "\n",
        "image_x = random.randint(0, X_train.shape[0])\n",
        "plt.subplot(221), plt.imshow(X_train[image_x]), plt.title('Train image (random)')\n",
        "plt.subplot(222), imshow(np.squeeze(Y_train[image_x])), plt.title('Train mask')\n",
        "plt.show()\n",
        "\n",
        "image_x_test = random.randint(0, X_test.shape[0])\n",
        "plt.subplot(223), plt.imshow(X_train[image_x_test]),plt.title('Test image (random)')\n",
        "plt.subplot(224), imshow(np.squeeze(Y_train[image_x_test])),plt.title('Test mask')\n",
        "plt.show()"
      ],
      "metadata": {
        "id": "hNQ31BfvAaaJ",
        "colab": {
          "base_uri": "https://localhost:8080/",
          "height": 537
        },
        "outputId": "a8966b02-9d00-4257-9e51-b701dd04635b"
      },
      "execution_count": null,
      "outputs": [
        {
          "output_type": "display_data",
          "data": {
            "text/plain": [
              "<Figure size 640x480 with 2 Axes>"
            ],
            "image/png": "[encoded data removed]"
          },
          "metadata": {}
        },
        {
          "output_type": "display_data",
          "data": {
            "text/plain": [
              "<Figure size 640x480 with 2 Axes>"
            ],
            "image/png": "[encoded data removed]"
          },
          "metadata": {}
        }
      ]
    },
    {
      "cell_type": "markdown",
      "source": [
        "# NFBS Dataset Precprocessing"
      ],
      "metadata": {
        "id": "66Ske2isdPmH"
      }
    },
    {
      "cell_type": "code",
      "source": [
        "from google.colab import drive\n",
        "drive.mount('/content/drive')"
      ],
      "metadata": {
        "id": "MTa_JKnUSb9s"
      },
      "execution_count": null,
      "outputs": []
    },
    {
      "cell_type": "code",
      "source": [
        "%cd /content/drive/MyDrive/NFBS_Dataset"
      ],
      "metadata": {
        "id": "naH3GyuueSaJ",
        "colab": {
          "base_uri": "https://localhost:8080/"
        },
        "outputId": "b519bb13-d10d-45b9-a998-f1fd22d3b1f3"
      },
      "execution_count": null,
      "outputs": [
        {
          "output_type": "stream",
          "name": "stdout",
          "text": [
            "/content/drive/.shortcut-targets-by-id/1aWjHT_sUZg_PB4WDujGAZFpZX-JGt568/NFBS_Dataset\n"
          ]
        }
      ]
    },
    {
      "cell_type": "code",
      "source": [
        "Droot = '/content/drive/MyDrive/NFBS_Dataset'"
      ],
      "metadata": {
        "id": "zzmx2Sv9eU3F"
      },
      "execution_count": null,
      "outputs": []
    },
    {
      "cell_type": "code",
      "source": [
        "dirs = os.listdir(Droot)\n",
        "dirs"
      ],
      "metadata": {
        "id": "I-rt4ydzeYik",
        "colab": {
          "base_uri": "https://localhost:8080/"
        },
        "outputId": "e8b39c12-6334-4ebf-e42e-2e7002aacb10"
      },
      "execution_count": null,
      "outputs": [
        {
          "output_type": "execute_result",
          "data": {
            "text/plain": [
              "['A00063589',\n",
              " 'A00063368',\n",
              " 'A00062917',\n",
              " 'A00063008',\n",
              " 'A00063103',\n",
              " 'A00062351',\n",
              " 'A00062934',\n",
              " 'A00064081',\n",
              " 'A00063326',\n",
              " 'A00062942',\n",
              " 'A00061711',\n",
              " 'A00061806',\n",
              " 'A00061276',\n",
              " 'A00062288',\n",
              " 'A00062266',\n",
              " 'A00062210',\n",
              " 'A00062248',\n",
              " 'A00061709',\n",
              " 'A00061387',\n",
              " 'A00062282',\n",
              " 'A00060372',\n",
              " 'A00060430',\n",
              " 'A00061204',\n",
              " 'A00060516',\n",
              " 'A00060632',\n",
              " 'A00060407',\n",
              " 'A00060480',\n",
              " 'A00060848',\n",
              " 'A00060925',\n",
              " 'A00060471',\n",
              " 'A00060279',\n",
              " 'A00059845',\n",
              " 'A00059346',\n",
              " 'A00060259',\n",
              " 'A00060093',\n",
              " 'A00060006',\n",
              " 'A00060169',\n",
              " 'A00059428',\n",
              " 'A00059911',\n",
              " 'A00059756',\n",
              " 'A00058218',\n",
              " 'A00058214',\n",
              " 'A00059344',\n",
              " 'A00057965',\n",
              " 'A00057808',\n",
              " 'A00058552',\n",
              " 'A00058667',\n",
              " 'A00058503',\n",
              " 'A00058952',\n",
              " 'A00058999',\n",
              " 'A00057444',\n",
              " 'A00057235',\n",
              " 'A00057005',\n",
              " 'A00057786',\n",
              " 'A00057203',\n",
              " 'A00057182',\n",
              " 'A00056898',\n",
              " 'A00057035',\n",
              " 'A00056949',\n",
              " 'A00057372',\n",
              " 'A00055447',\n",
              " 'A00055763',\n",
              " 'A00055542',\n",
              " 'A00056556',\n",
              " 'A00056306',\n",
              " 'A00056097',\n",
              " 'A00055806',\n",
              " 'A00056627',\n",
              " 'A00055738',\n",
              " 'A00056452',\n",
              " 'A00054914',\n",
              " 'A00053902',\n",
              " 'A00054441',\n",
              " 'A00055446',\n",
              " 'A00055121',\n",
              " 'A00053851',\n",
              " 'A00055373',\n",
              " 'A00054504',\n",
              " 'A00054857',\n",
              " 'A00054019',\n",
              " 'A00053455',\n",
              " 'A00053473',\n",
              " 'A00052500',\n",
              " 'A00053475',\n",
              " 'A00051927',\n",
              " 'A00053850',\n",
              " 'A00052340',\n",
              " 'A00052125',\n",
              " 'A00052181',\n",
              " 'A00052560',\n",
              " 'A00043721',\n",
              " 'A00051548',\n",
              " 'A00045590',\n",
              " 'A00043998',\n",
              " 'A00050940',\n",
              " 'A00043704',\n",
              " 'A00043722',\n",
              " 'A00051676',\n",
              " 'A00051539',\n",
              " 'A00043677',\n",
              " 'A00040151',\n",
              " 'A00040573',\n",
              " 'A00040944',\n",
              " 'A00043520',\n",
              " 'A00043299',\n",
              " 'A00040524',\n",
              " 'A00040640',\n",
              " 'A00040623',\n",
              " 'A00040193',\n",
              " 'A00040628',\n",
              " 'A00037511',\n",
              " 'A00035827',\n",
              " 'A00035072',\n",
              " 'A00038998',\n",
              " 'A00039391',\n",
              " 'A00039431',\n",
              " 'A00037112',\n",
              " 'A00035840',\n",
              " 'A00038642',\n",
              " 'A00037848',\n",
              " 'A00028352',\n",
              " 'A00032875',\n",
              " 'A00033747',\n",
              " 'A00028185',\n",
              " 'A00034854',\n",
              " 'haar_Unet_1679563649.4237.png',\n",
              " 'wunet.h5',\n",
              " 'NFBSXTr',\n",
              " 'NFBSYTr']"
            ]
          },
          "metadata": {},
          "execution_count": 6
        }
      ]
    },
    {
      "cell_type": "code",
      "source": [
        "dirs = [_ for _ in dirs if os.path.isdir(os.path.join(Droot,_)) and _.startswith('A')]\n",
        "dirs\n",
        "len(dirs)"
      ],
      "metadata": {
        "id": "SesRY3yCebIg",
        "colab": {
          "base_uri": "https://localhost:8080/"
        },
        "outputId": "f1931fe8-286e-4912-934f-4c552a6fc076"
      },
      "execution_count": null,
      "outputs": [
        {
          "output_type": "execute_result",
          "data": {
            "text/plain": [
              "125"
            ]
          },
          "metadata": {},
          "execution_count": 7
        }
      ]
    },
    {
      "cell_type": "code",
      "source": [
        "h1 = 'NFB3_T1w_brain.nii.gz'\n",
        "h2 = 'NFB3_T1w_brainmask.nii.gz'\n",
        "h3 = 'NFB3_T1w.nii.gz'"
      ],
      "metadata": {
        "id": "X-SoVWJqecE4"
      },
      "execution_count": null,
      "outputs": []
    },
    {
      "cell_type": "code",
      "source": [
        "global vimgs, vimgs_mask\n",
        "vimgs = [os.path.join(Droot,d,_) for d in dirs for _ in os.listdir(os.path.join(Droot,d)) if _.endswith(h1)]\n",
        "vimgs_mask = [os.path.join(Droot,d,_) for d in dirs for _ in os.listdir(os.path.join(Droot,d)) if _.endswith(h2)]\n",
        "print(len(vimgs))\n",
        "vimgs"
      ],
      "metadata": {
        "id": "3uum6otBeh2T",
        "colab": {
          "base_uri": "https://localhost:8080/"
        },
        "outputId": "0c9ee9ff-4184-4a3c-b9fa-5de6c329b63a"
      },
      "execution_count": null,
      "outputs": [
        {
          "output_type": "stream",
          "name": "stdout",
          "text": [
            "125\n"
          ]
        },
        {
          "output_type": "execute_result",
          "data": {
            "text/plain": [
              "['/content/drive/MyDrive/NFBS_Dataset/A00063589/sub-A00063589_ses-NFB3_T1w_brain.nii.gz',\n",
              " '/content/drive/MyDrive/NFBS_Dataset/A00063368/sub-A00063368_ses-NFB3_T1w_brain.nii.gz',\n",
              " '/content/drive/MyDrive/NFBS_Dataset/A00062917/sub-A00062917_ses-NFB3_T1w_brain.nii.gz',\n",
              " '/content/drive/MyDrive/NFBS_Dataset/A00063008/sub-A00063008_ses-NFB3_T1w_brain.nii.gz',\n",
              " '/content/drive/MyDrive/NFBS_Dataset/A00063103/sub-A00063103_ses-NFB3_T1w_brain.nii.gz',\n",
              " '/content/drive/MyDrive/NFBS_Dataset/A00062351/sub-A00062351_ses-NFB3_T1w_brain.nii.gz',\n",
              " '/content/drive/MyDrive/NFBS_Dataset/A00062934/sub-A00062934_ses-NFB3_T1w_brain.nii.gz',\n",
              " '/content/drive/MyDrive/NFBS_Dataset/A00064081/sub-A00064081_ses-NFB3_T1w_brain.nii.gz',\n",
              " '/content/drive/MyDrive/NFBS_Dataset/A00063326/sub-A00063326_ses-NFB3_T1w_brain.nii.gz',\n",
              " '/content/drive/MyDrive/NFBS_Dataset/A00062942/sub-A00062942_ses-NFB3_T1w_brain.nii.gz',\n",
              " '/content/drive/MyDrive/NFBS_Dataset/A00061711/sub-A00061711_ses-NFB3_T1w_brain.nii.gz',\n",
              " '/content/drive/MyDrive/NFBS_Dataset/A00061806/sub-A00061806_ses-NFB3_T1w_brain.nii.gz',\n",
              " '/content/drive/MyDrive/NFBS_Dataset/A00061276/sub-A00061276_ses-NFB3_T1w_brain.nii.gz',\n",
              " '/content/drive/MyDrive/NFBS_Dataset/A00062288/sub-A00062288_ses-NFB3_T1w_brain.nii.gz',\n",
              " '/content/drive/MyDrive/NFBS_Dataset/A00062266/sub-A00062266_ses-NFB3_T1w_brain.nii.gz',\n",
              " '/content/drive/MyDrive/NFBS_Dataset/A00062210/sub-A00062210_ses-NFB3_T1w_brain.nii.gz',\n",
              " '/content/drive/MyDrive/NFBS_Dataset/A00062248/sub-A00062248_ses-NFB3_T1w_brain.nii.gz',\n",
              " '/content/drive/MyDrive/NFBS_Dataset/A00061709/sub-A00061709_ses-NFB3_T1w_brain.nii.gz',\n",
              " '/content/drive/MyDrive/NFBS_Dataset/A00061387/sub-A00061387_ses-NFB3_T1w_brain.nii.gz',\n",
              " '/content/drive/MyDrive/NFBS_Dataset/A00062282/sub-A00062282_ses-NFB3_T1w_brain.nii.gz',\n",
              " '/content/drive/MyDrive/NFBS_Dataset/A00060372/sub-A00060372_ses-NFB3_T1w_brain.nii.gz',\n",
              " '/content/drive/MyDrive/NFBS_Dataset/A00060430/sub-A00060430_ses-NFB3_T1w_brain.nii.gz',\n",
              " '/content/drive/MyDrive/NFBS_Dataset/A00061204/sub-A00061204_ses-NFB3_T1w_brain.nii.gz',\n",
              " '/content/drive/MyDrive/NFBS_Dataset/A00060516/sub-A00060516_ses-NFB3_T1w_brain.nii.gz',\n",
              " '/content/drive/MyDrive/NFBS_Dataset/A00060632/sub-A00060632_ses-NFB3_T1w_brain.nii.gz',\n",
              " '/content/drive/MyDrive/NFBS_Dataset/A00060407/sub-A00060407_ses-NFB3_T1w_brain.nii.gz',\n",
              " '/content/drive/MyDrive/NFBS_Dataset/A00060480/sub-A00060480_ses-NFB3_T1w_brain.nii.gz',\n",
              " '/content/drive/MyDrive/NFBS_Dataset/A00060848/sub-A00060848_ses-NFB3_T1w_brain.nii.gz',\n",
              " '/content/drive/MyDrive/NFBS_Dataset/A00060925/sub-A00060925_ses-NFB3_T1w_brain.nii.gz',\n",
              " '/content/drive/MyDrive/NFBS_Dataset/A00060471/sub-A00060471_ses-NFB3_T1w_brain.nii.gz',\n",
              " '/content/drive/MyDrive/NFBS_Dataset/A00060279/sub-A00060279_ses-NFB3_T1w_brain.nii.gz',\n",
              " '/content/drive/MyDrive/NFBS_Dataset/A00059845/sub-A00059845_ses-NFB3_T1w_brain.nii.gz',\n",
              " '/content/drive/MyDrive/NFBS_Dataset/A00059346/sub-A00059346_ses-NFB3_T1w_brain.nii.gz',\n",
              " '/content/drive/MyDrive/NFBS_Dataset/A00060259/sub-A00060259_ses-NFB3_T1w_brain.nii.gz',\n",
              " '/content/drive/MyDrive/NFBS_Dataset/A00060093/sub-A00060093_ses-NFB3_T1w_brain.nii.gz',\n",
              " '/content/drive/MyDrive/NFBS_Dataset/A00060006/sub-A00060006_ses-NFB3_T1w_brain.nii.gz',\n",
              " '/content/drive/MyDrive/NFBS_Dataset/A00060169/sub-A00060169_ses-NFB3_T1w_brain.nii.gz',\n",
              " '/content/drive/MyDrive/NFBS_Dataset/A00059428/sub-A00059428_ses-NFB3_T1w_brain.nii.gz',\n",
              " '/content/drive/MyDrive/NFBS_Dataset/A00059911/sub-A00059911_ses-NFB3_T1w_brain.nii.gz',\n",
              " '/content/drive/MyDrive/NFBS_Dataset/A00059756/sub-A00059756_ses-NFB3_T1w_brain.nii.gz',\n",
              " '/content/drive/MyDrive/NFBS_Dataset/A00058218/sub-A00058218_ses-NFB3_T1w_brain.nii.gz',\n",
              " '/content/drive/MyDrive/NFBS_Dataset/A00058214/sub-A00058214_ses-NFB3_T1w_brain.nii.gz',\n",
              " '/content/drive/MyDrive/NFBS_Dataset/A00059344/sub-A00059344_ses-NFB3_T1w_brain.nii.gz',\n",
              " '/content/drive/MyDrive/NFBS_Dataset/A00057965/sub-A00057965_ses-NFB3_T1w_brain.nii.gz',\n",
              " '/content/drive/MyDrive/NFBS_Dataset/A00057808/sub-A00057808_ses-NFB3_T1w_brain.nii.gz',\n",
              " '/content/drive/MyDrive/NFBS_Dataset/A00058552/sub-A00058552_ses-NFB3_T1w_brain.nii.gz',\n",
              " '/content/drive/MyDrive/NFBS_Dataset/A00058667/sub-A00058667_ses-NFB3_T1w_brain.nii.gz',\n",
              " '/content/drive/MyDrive/NFBS_Dataset/A00058503/sub-A00058503_ses-NFB3_T1w_brain.nii.gz',\n",
              " '/content/drive/MyDrive/NFBS_Dataset/A00058952/sub-A00058952_ses-NFB3_T1w_brain.nii.gz',\n",
              " '/content/drive/MyDrive/NFBS_Dataset/A00058999/sub-A00058999_ses-NFB3_T1w_brain.nii.gz',\n",
              " '/content/drive/MyDrive/NFBS_Dataset/A00057444/sub-A00057444_ses-NFB3_T1w_brain.nii.gz',\n",
              " '/content/drive/MyDrive/NFBS_Dataset/A00057235/sub-A00057235_ses-NFB3_T1w_brain.nii.gz',\n",
              " '/content/drive/MyDrive/NFBS_Dataset/A00057005/sub-A00057005_ses-NFB3_T1w_brain.nii.gz',\n",
              " '/content/drive/MyDrive/NFBS_Dataset/A00057786/sub-A00057786_ses-NFB3_T1w_brain.nii.gz',\n",
              " '/content/drive/MyDrive/NFBS_Dataset/A00057203/sub-A00057203_ses-NFB3_T1w_brain.nii.gz',\n",
              " '/content/drive/MyDrive/NFBS_Dataset/A00057182/sub-A00057182_ses-NFB3_T1w_brain.nii.gz',\n",
              " '/content/drive/MyDrive/NFBS_Dataset/A00056898/sub-A00056898_ses-NFB3_T1w_brain.nii.gz',\n",
              " '/content/drive/MyDrive/NFBS_Dataset/A00057035/sub-A00057035_ses-NFB3_T1w_brain.nii.gz',\n",
              " '/content/drive/MyDrive/NFBS_Dataset/A00056949/sub-A00056949_ses-NFB3_T1w_brain.nii.gz',\n",
              " '/content/drive/MyDrive/NFBS_Dataset/A00057372/sub-A00057372_ses-NFB3_T1w_brain.nii.gz',\n",
              " '/content/drive/MyDrive/NFBS_Dataset/A00055447/sub-A00055447_ses-NFB3_T1w_brain.nii.gz',\n",
              " '/content/drive/MyDrive/NFBS_Dataset/A00055763/sub-A00055763_ses-NFB3_T1w_brain.nii.gz',\n",
              " '/content/drive/MyDrive/NFBS_Dataset/A00055542/sub-A00055542_ses-NFB3_T1w_brain.nii.gz',\n",
              " '/content/drive/MyDrive/NFBS_Dataset/A00056556/sub-A00056556_ses-NFB3_T1w_brain.nii.gz',\n",
              " '/content/drive/MyDrive/NFBS_Dataset/A00056306/sub-A00056306_ses-NFB3_T1w_brain.nii.gz',\n",
              " '/content/drive/MyDrive/NFBS_Dataset/A00056097/sub-A00056097_ses-NFB3_T1w_brain.nii.gz',\n",
              " '/content/drive/MyDrive/NFBS_Dataset/A00055806/sub-A00055806_ses-NFB3_T1w_brain.nii.gz',\n",
              " '/content/drive/MyDrive/NFBS_Dataset/A00056627/sub-A00056627_ses-NFB3_T1w_brain.nii.gz',\n",
              " '/content/drive/MyDrive/NFBS_Dataset/A00055738/sub-A00055738_ses-NFB3_T1w_brain.nii.gz',\n",
              " '/content/drive/MyDrive/NFBS_Dataset/A00056452/sub-A00056452_ses-NFB3_T1w_brain.nii.gz',\n",
              " '/content/drive/MyDrive/NFBS_Dataset/A00054914/sub-A00054914_ses-NFB3_T1w_brain.nii.gz',\n",
              " '/content/drive/MyDrive/NFBS_Dataset/A00053902/sub-A00053902_ses-NFB3_T1w_brain.nii.gz',\n",
              " '/content/drive/MyDrive/NFBS_Dataset/A00054441/sub-A00054441_ses-NFB3_T1w_brain.nii.gz',\n",
              " '/content/drive/MyDrive/NFBS_Dataset/A00055446/sub-A00055446_ses-NFB3_T1w_brain.nii.gz',\n",
              " '/content/drive/MyDrive/NFBS_Dataset/A00055121/sub-A00055121_ses-NFB3_T1w_brain.nii.gz',\n",
              " '/content/drive/MyDrive/NFBS_Dataset/A00053851/sub-A00053851_ses-NFB3_T1w_brain.nii.gz',\n",
              " '/content/drive/MyDrive/NFBS_Dataset/A00055373/sub-A00055373_ses-NFB3_T1w_brain.nii.gz',\n",
              " '/content/drive/MyDrive/NFBS_Dataset/A00054504/sub-A00054504_ses-NFB3_T1w_brain.nii.gz',\n",
              " '/content/drive/MyDrive/NFBS_Dataset/A00054857/sub-A00054857_ses-NFB3_T1w_brain.nii.gz',\n",
              " '/content/drive/MyDrive/NFBS_Dataset/A00054019/sub-A00054019_ses-NFB3_T1w_brain.nii.gz',\n",
              " '/content/drive/MyDrive/NFBS_Dataset/A00053455/sub-A00053455_ses-NFB3_T1w_brain.nii.gz',\n",
              " '/content/drive/MyDrive/NFBS_Dataset/A00053473/sub-A00053473_ses-NFB3_T1w_brain.nii.gz',\n",
              " '/content/drive/MyDrive/NFBS_Dataset/A00052500/sub-A00052500_ses-NFB3_T1w_brain.nii.gz',\n",
              " '/content/drive/MyDrive/NFBS_Dataset/A00053475/sub-A00053475_ses-NFB3_T1w_brain.nii.gz',\n",
              " '/content/drive/MyDrive/NFBS_Dataset/A00051927/sub-A00051927_ses-NFB3_T1w_brain.nii.gz',\n",
              " '/content/drive/MyDrive/NFBS_Dataset/A00053850/sub-A00053850_ses-NFB3_T1w_brain.nii.gz',\n",
              " '/content/drive/MyDrive/NFBS_Dataset/A00052340/sub-A00052340_ses-NFB3_T1w_brain.nii.gz',\n",
              " '/content/drive/MyDrive/NFBS_Dataset/A00052125/sub-A00052125_ses-NFB3_T1w_brain.nii.gz',\n",
              " '/content/drive/MyDrive/NFBS_Dataset/A00052181/sub-A00052181_ses-NFB3_T1w_brain.nii.gz',\n",
              " '/content/drive/MyDrive/NFBS_Dataset/A00052560/sub-A00052560_ses-NFB3_T1w_brain.nii.gz',\n",
              " '/content/drive/MyDrive/NFBS_Dataset/A00043721/sub-A00043721_ses-NFB3_T1w_brain.nii.gz',\n",
              " '/content/drive/MyDrive/NFBS_Dataset/A00051548/sub-A00051548_ses-NFB3_T1w_brain.nii.gz',\n",
              " '/content/drive/MyDrive/NFBS_Dataset/A00045590/sub-A00045590_ses-NFB3_T1w_brain.nii.gz',\n",
              " '/content/drive/MyDrive/NFBS_Dataset/A00043998/sub-A00043998_ses-NFB3_T1w_brain.nii.gz',\n",
              " '/content/drive/MyDrive/NFBS_Dataset/A00050940/sub-A00050940_ses-NFB3_T1w_brain.nii.gz',\n",
              " '/content/drive/MyDrive/NFBS_Dataset/A00043704/sub-A00043704_ses-NFB3_T1w_brain.nii.gz',\n",
              " '/content/drive/MyDrive/NFBS_Dataset/A00043722/sub-A00043722_ses-NFB3_T1w_brain.nii.gz',\n",
              " '/content/drive/MyDrive/NFBS_Dataset/A00051676/sub-A00051676_ses-NFB3_T1w_brain.nii.gz',\n",
              " '/content/drive/MyDrive/NFBS_Dataset/A00051539/sub-A00051539_ses-NFB3_T1w_brain.nii.gz',\n",
              " '/content/drive/MyDrive/NFBS_Dataset/A00043677/sub-A00043677_ses-NFB3_T1w_brain.nii.gz',\n",
              " '/content/drive/MyDrive/NFBS_Dataset/A00040151/sub-A00040151_ses-NFB3_T1w_brain.nii.gz',\n",
              " '/content/drive/MyDrive/NFBS_Dataset/A00040573/sub-A00040573_ses-NFB3_T1w_brain.nii.gz',\n",
              " '/content/drive/MyDrive/NFBS_Dataset/A00040944/sub-A00040944_ses-NFB3_T1w_brain.nii.gz',\n",
              " '/content/drive/MyDrive/NFBS_Dataset/A00043520/sub-A00043520_ses-NFB3_T1w_brain.nii.gz',\n",
              " '/content/drive/MyDrive/NFBS_Dataset/A00043299/sub-A00043299_ses-NFB3_T1w_brain.nii.gz',\n",
              " '/content/drive/MyDrive/NFBS_Dataset/A00040524/sub-A00040524_ses-NFB3_T1w_brain.nii.gz',\n",
              " '/content/drive/MyDrive/NFBS_Dataset/A00040640/sub-A00040640_ses-NFB3_T1w_brain.nii.gz',\n",
              " '/content/drive/MyDrive/NFBS_Dataset/A00040623/sub-A00040623_ses-NFB3_T1w_brain.nii.gz',\n",
              " '/content/drive/MyDrive/NFBS_Dataset/A00040193/sub-A00040193_ses-NFB3_T1w_brain.nii.gz',\n",
              " '/content/drive/MyDrive/NFBS_Dataset/A00040628/sub-A00040628_ses-NFB3_T1w_brain.nii.gz',\n",
              " '/content/drive/MyDrive/NFBS_Dataset/A00037511/sub-A00037511_ses-NFB3_T1w_brain.nii.gz',\n",
              " '/content/drive/MyDrive/NFBS_Dataset/A00035827/sub-A00035827_ses-NFB3_T1w_brain.nii.gz',\n",
              " '/content/drive/MyDrive/NFBS_Dataset/A00035072/sub-A00035072_ses-NFB3_T1w_brain.nii.gz',\n",
              " '/content/drive/MyDrive/NFBS_Dataset/A00038998/sub-A00038998_ses-NFB3_T1w_brain.nii.gz',\n",
              " '/content/drive/MyDrive/NFBS_Dataset/A00039391/sub-A00039391_ses-NFB3_T1w_brain.nii.gz',\n",
              " '/content/drive/MyDrive/NFBS_Dataset/A00039431/sub-A00039431_ses-NFB3_T1w_brain.nii.gz',\n",
              " '/content/drive/MyDrive/NFBS_Dataset/A00037112/sub-A00037112_ses-NFB3_T1w_brain.nii.gz',\n",
              " '/content/drive/MyDrive/NFBS_Dataset/A00035840/sub-A00035840_ses-NFB3_T1w_brain.nii.gz',\n",
              " '/content/drive/MyDrive/NFBS_Dataset/A00038642/sub-A00038642_ses-NFB3_T1w_brain.nii.gz',\n",
              " '/content/drive/MyDrive/NFBS_Dataset/A00037848/sub-A00037848_ses-NFB3_T1w_brain.nii.gz',\n",
              " '/content/drive/MyDrive/NFBS_Dataset/A00028352/sub-A00028352_ses-NFB3_T1w_brain.nii.gz',\n",
              " '/content/drive/MyDrive/NFBS_Dataset/A00032875/sub-A00032875_ses-NFB3_T1w_brain.nii.gz',\n",
              " '/content/drive/MyDrive/NFBS_Dataset/A00033747/sub-A00033747_ses-NFB3_T1w_brain.nii.gz',\n",
              " '/content/drive/MyDrive/NFBS_Dataset/A00028185/sub-A00028185_ses-NFB3_T1w_brain.nii.gz',\n",
              " '/content/drive/MyDrive/NFBS_Dataset/A00034854/sub-A00034854_ses-NFB3_T1w_brain.nii.gz']"
            ]
          },
          "metadata": {},
          "execution_count": 9
        }
      ]
    },
    {
      "cell_type": "code",
      "source": [
        "print(len(vimgs_mask))\n",
        "vimgs_mask"
      ],
      "metadata": {
        "id": "pHdK6OTEel5n",
        "colab": {
          "base_uri": "https://localhost:8080/"
        },
        "outputId": "da6f1d77-5a0b-4d75-8b02-7d6abf330306"
      },
      "execution_count": null,
      "outputs": [
        {
          "output_type": "stream",
          "name": "stdout",
          "text": [
            "125\n"
          ]
        },
        {
          "output_type": "execute_result",
          "data": {
            "text/plain": [
              "['/content/drive/MyDrive/NFBS_Dataset/A00063589/sub-A00063589_ses-NFB3_T1w_brainmask.nii.gz',\n",
              " '/content/drive/MyDrive/NFBS_Dataset/A00063368/sub-A00063368_ses-NFB3_T1w_brainmask.nii.gz',\n",
              " '/content/drive/MyDrive/NFBS_Dataset/A00062917/sub-A00062917_ses-NFB3_T1w_brainmask.nii.gz',\n",
              " '/content/drive/MyDrive/NFBS_Dataset/A00063008/sub-A00063008_ses-NFB3_T1w_brainmask.nii.gz',\n",
              " '/content/drive/MyDrive/NFBS_Dataset/A00063103/sub-A00063103_ses-NFB3_T1w_brainmask.nii.gz',\n",
              " '/content/drive/MyDrive/NFBS_Dataset/A00062351/sub-A00062351_ses-NFB3_T1w_brainmask.nii.gz',\n",
              " '/content/drive/MyDrive/NFBS_Dataset/A00062934/sub-A00062934_ses-NFB3_T1w_brainmask.nii.gz',\n",
              " '/content/drive/MyDrive/NFBS_Dataset/A00064081/sub-A00064081_ses-NFB3_T1w_brainmask.nii.gz',\n",
              " '/content/drive/MyDrive/NFBS_Dataset/A00063326/sub-A00063326_ses-NFB3_T1w_brainmask.nii.gz',\n",
              " '/content/drive/MyDrive/NFBS_Dataset/A00062942/sub-A00062942_ses-NFB3_T1w_brainmask.nii.gz',\n",
              " '/content/drive/MyDrive/NFBS_Dataset/A00061711/sub-A00061711_ses-NFB3_T1w_brainmask.nii.gz',\n",
              " '/content/drive/MyDrive/NFBS_Dataset/A00061806/sub-A00061806_ses-NFB3_T1w_brainmask.nii.gz',\n",
              " '/content/drive/MyDrive/NFBS_Dataset/A00061276/sub-A00061276_ses-NFB3_T1w_brainmask.nii.gz',\n",
              " '/content/drive/MyDrive/NFBS_Dataset/A00062288/sub-A00062288_ses-NFB3_T1w_brainmask.nii.gz',\n",
              " '/content/drive/MyDrive/NFBS_Dataset/A00062266/sub-A00062266_ses-NFB3_T1w_brainmask.nii.gz',\n",
              " '/content/drive/MyDrive/NFBS_Dataset/A00062210/sub-A00062210_ses-NFB3_T1w_brainmask.nii.gz',\n",
              " '/content/drive/MyDrive/NFBS_Dataset/A00062248/sub-A00062248_ses-NFB3_T1w_brainmask.nii.gz',\n",
              " '/content/drive/MyDrive/NFBS_Dataset/A00061709/sub-A00061709_ses-NFB3_T1w_brainmask.nii.gz',\n",
              " '/content/drive/MyDrive/NFBS_Dataset/A00061387/sub-A00061387_ses-NFB3_T1w_brainmask.nii.gz',\n",
              " '/content/drive/MyDrive/NFBS_Dataset/A00062282/sub-A00062282_ses-NFB3_T1w_brainmask.nii.gz',\n",
              " '/content/drive/MyDrive/NFBS_Dataset/A00060372/sub-A00060372_ses-NFB3_T1w_brainmask.nii.gz',\n",
              " '/content/drive/MyDrive/NFBS_Dataset/A00060430/sub-A00060430_ses-NFB3_T1w_brainmask.nii.gz',\n",
              " '/content/drive/MyDrive/NFBS_Dataset/A00061204/sub-A00061204_ses-NFB3_T1w_brainmask.nii.gz',\n",
              " '/content/drive/MyDrive/NFBS_Dataset/A00060516/sub-A00060516_ses-NFB3_T1w_brainmask.nii.gz',\n",
              " '/content/drive/MyDrive/NFBS_Dataset/A00060632/sub-A00060632_ses-NFB3_T1w_brainmask.nii.gz',\n",
              " '/content/drive/MyDrive/NFBS_Dataset/A00060407/sub-A00060407_ses-NFB3_T1w_brainmask.nii.gz',\n",
              " '/content/drive/MyDrive/NFBS_Dataset/A00060480/sub-A00060480_ses-NFB3_T1w_brainmask.nii.gz',\n",
              " '/content/drive/MyDrive/NFBS_Dataset/A00060848/sub-A00060848_ses-NFB3_T1w_brainmask.nii.gz',\n",
              " '/content/drive/MyDrive/NFBS_Dataset/A00060925/sub-A00060925_ses-NFB3_T1w_brainmask.nii.gz',\n",
              " '/content/drive/MyDrive/NFBS_Dataset/A00060471/sub-A00060471_ses-NFB3_T1w_brainmask.nii.gz',\n",
              " '/content/drive/MyDrive/NFBS_Dataset/A00060279/sub-A00060279_ses-NFB3_T1w_brainmask.nii.gz',\n",
              " '/content/drive/MyDrive/NFBS_Dataset/A00059845/sub-A00059845_ses-NFB3_T1w_brainmask.nii.gz',\n",
              " '/content/drive/MyDrive/NFBS_Dataset/A00059346/sub-A00059346_ses-NFB3_T1w_brainmask.nii.gz',\n",
              " '/content/drive/MyDrive/NFBS_Dataset/A00060259/sub-A00060259_ses-NFB3_T1w_brainmask.nii.gz',\n",
              " '/content/drive/MyDrive/NFBS_Dataset/A00060093/sub-A00060093_ses-NFB3_T1w_brainmask.nii.gz',\n",
              " '/content/drive/MyDrive/NFBS_Dataset/A00060006/sub-A00060006_ses-NFB3_T1w_brainmask.nii.gz',\n",
              " '/content/drive/MyDrive/NFBS_Dataset/A00060169/sub-A00060169_ses-NFB3_T1w_brainmask.nii.gz',\n",
              " '/content/drive/MyDrive/NFBS_Dataset/A00059428/sub-A00059428_ses-NFB3_T1w_brainmask.nii.gz',\n",
              " '/content/drive/MyDrive/NFBS_Dataset/A00059911/sub-A00059911_ses-NFB3_T1w_brainmask.nii.gz',\n",
              " '/content/drive/MyDrive/NFBS_Dataset/A00059756/sub-A00059756_ses-NFB3_T1w_brainmask.nii.gz',\n",
              " '/content/drive/MyDrive/NFBS_Dataset/A00058218/sub-A00058218_ses-NFB3_T1w_brainmask.nii.gz',\n",
              " '/content/drive/MyDrive/NFBS_Dataset/A00058214/sub-A00058214_ses-NFB3_T1w_brainmask.nii.gz',\n",
              " '/content/drive/MyDrive/NFBS_Dataset/A00059344/sub-A00059344_ses-NFB3_T1w_brainmask.nii.gz',\n",
              " '/content/drive/MyDrive/NFBS_Dataset/A00057965/sub-A00057965_ses-NFB3_T1w_brainmask.nii.gz',\n",
              " '/content/drive/MyDrive/NFBS_Dataset/A00057808/sub-A00057808_ses-NFB3_T1w_brainmask.nii.gz',\n",
              " '/content/drive/MyDrive/NFBS_Dataset/A00058552/sub-A00058552_ses-NFB3_T1w_brainmask.nii.gz',\n",
              " '/content/drive/MyDrive/NFBS_Dataset/A00058667/sub-A00058667_ses-NFB3_T1w_brainmask.nii.gz',\n",
              " '/content/drive/MyDrive/NFBS_Dataset/A00058503/sub-A00058503_ses-NFB3_T1w_brainmask.nii.gz',\n",
              " '/content/drive/MyDrive/NFBS_Dataset/A00058952/sub-A00058952_ses-NFB3_T1w_brainmask.nii.gz',\n",
              " '/content/drive/MyDrive/NFBS_Dataset/A00058999/sub-A00058999_ses-NFB3_T1w_brainmask.nii.gz',\n",
              " '/content/drive/MyDrive/NFBS_Dataset/A00057444/sub-A00057444_ses-NFB3_T1w_brainmask.nii.gz',\n",
              " '/content/drive/MyDrive/NFBS_Dataset/A00057235/sub-A00057235_ses-NFB3_T1w_brainmask.nii.gz',\n",
              " '/content/drive/MyDrive/NFBS_Dataset/A00057005/sub-A00057005_ses-NFB3_T1w_brainmask.nii.gz',\n",
              " '/content/drive/MyDrive/NFBS_Dataset/A00057786/sub-A00057786_ses-NFB3_T1w_brainmask.nii.gz',\n",
              " '/content/drive/MyDrive/NFBS_Dataset/A00057203/sub-A00057203_ses-NFB3_T1w_brainmask.nii.gz',\n",
              " '/content/drive/MyDrive/NFBS_Dataset/A00057182/sub-A00057182_ses-NFB3_T1w_brainmask.nii.gz',\n",
              " '/content/drive/MyDrive/NFBS_Dataset/A00056898/sub-A00056898_ses-NFB3_T1w_brainmask.nii.gz',\n",
              " '/content/drive/MyDrive/NFBS_Dataset/A00057035/sub-A00057035_ses-NFB3_T1w_brainmask.nii.gz',\n",
              " '/content/drive/MyDrive/NFBS_Dataset/A00056949/sub-A00056949_ses-NFB3_T1w_brainmask.nii.gz',\n",
              " '/content/drive/MyDrive/NFBS_Dataset/A00057372/sub-A00057372_ses-NFB3_T1w_brainmask.nii.gz',\n",
              " '/content/drive/MyDrive/NFBS_Dataset/A00055447/sub-A00055447_ses-NFB3_T1w_brainmask.nii.gz',\n",
              " '/content/drive/MyDrive/NFBS_Dataset/A00055763/sub-A00055763_ses-NFB3_T1w_brainmask.nii.gz',\n",
              " '/content/drive/MyDrive/NFBS_Dataset/A00055542/sub-A00055542_ses-NFB3_T1w_brainmask.nii.gz',\n",
              " '/content/drive/MyDrive/NFBS_Dataset/A00056556/sub-A00056556_ses-NFB3_T1w_brainmask.nii.gz',\n",
              " '/content/drive/MyDrive/NFBS_Dataset/A00056306/sub-A00056306_ses-NFB3_T1w_brainmask.nii.gz',\n",
              " '/content/drive/MyDrive/NFBS_Dataset/A00056097/sub-A00056097_ses-NFB3_T1w_brainmask.nii.gz',\n",
              " '/content/drive/MyDrive/NFBS_Dataset/A00055806/sub-A00055806_ses-NFB3_T1w_brainmask.nii.gz',\n",
              " '/content/drive/MyDrive/NFBS_Dataset/A00056627/sub-A00056627_ses-NFB3_T1w_brainmask.nii.gz',\n",
              " '/content/drive/MyDrive/NFBS_Dataset/A00055738/sub-A00055738_ses-NFB3_T1w_brainmask.nii.gz',\n",
              " '/content/drive/MyDrive/NFBS_Dataset/A00056452/sub-A00056452_ses-NFB3_T1w_brainmask.nii.gz',\n",
              " '/content/drive/MyDrive/NFBS_Dataset/A00054914/sub-A00054914_ses-NFB3_T1w_brainmask.nii.gz',\n",
              " '/content/drive/MyDrive/NFBS_Dataset/A00053902/sub-A00053902_ses-NFB3_T1w_brainmask.nii.gz',\n",
              " '/content/drive/MyDrive/NFBS_Dataset/A00054441/sub-A00054441_ses-NFB3_T1w_brainmask.nii.gz',\n",
              " '/content/drive/MyDrive/NFBS_Dataset/A00055446/sub-A00055446_ses-NFB3_T1w_brainmask.nii.gz',\n",
              " '/content/drive/MyDrive/NFBS_Dataset/A00055121/sub-A00055121_ses-NFB3_T1w_brainmask.nii.gz',\n",
              " '/content/drive/MyDrive/NFBS_Dataset/A00053851/sub-A00053851_ses-NFB3_T1w_brainmask.nii.gz',\n",
              " '/content/drive/MyDrive/NFBS_Dataset/A00055373/sub-A00055373_ses-NFB3_T1w_brainmask.nii.gz',\n",
              " '/content/drive/MyDrive/NFBS_Dataset/A00054504/sub-A00054504_ses-NFB3_T1w_brainmask.nii.gz',\n",
              " '/content/drive/MyDrive/NFBS_Dataset/A00054857/sub-A00054857_ses-NFB3_T1w_brainmask.nii.gz',\n",
              " '/content/drive/MyDrive/NFBS_Dataset/A00054019/sub-A00054019_ses-NFB3_T1w_brainmask.nii.gz',\n",
              " '/content/drive/MyDrive/NFBS_Dataset/A00053455/sub-A00053455_ses-NFB3_T1w_brainmask.nii.gz',\n",
              " '/content/drive/MyDrive/NFBS_Dataset/A00053473/sub-A00053473_ses-NFB3_T1w_brainmask.nii.gz',\n",
              " '/content/drive/MyDrive/NFBS_Dataset/A00052500/sub-A00052500_ses-NFB3_T1w_brainmask.nii.gz',\n",
              " '/content/drive/MyDrive/NFBS_Dataset/A00053475/sub-A00053475_ses-NFB3_T1w_brainmask.nii.gz',\n",
              " '/content/drive/MyDrive/NFBS_Dataset/A00051927/sub-A00051927_ses-NFB3_T1w_brainmask.nii.gz',\n",
              " '/content/drive/MyDrive/NFBS_Dataset/A00053850/sub-A00053850_ses-NFB3_T1w_brainmask.nii.gz',\n",
              " '/content/drive/MyDrive/NFBS_Dataset/A00052340/sub-A00052340_ses-NFB3_T1w_brainmask.nii.gz',\n",
              " '/content/drive/MyDrive/NFBS_Dataset/A00052125/sub-A00052125_ses-NFB3_T1w_brainmask.nii.gz',\n",
              " '/content/drive/MyDrive/NFBS_Dataset/A00052181/sub-A00052181_ses-NFB3_T1w_brainmask.nii.gz',\n",
              " '/content/drive/MyDrive/NFBS_Dataset/A00052560/sub-A00052560_ses-NFB3_T1w_brainmask.nii.gz',\n",
              " '/content/drive/MyDrive/NFBS_Dataset/A00043721/sub-A00043721_ses-NFB3_T1w_brainmask.nii.gz',\n",
              " '/content/drive/MyDrive/NFBS_Dataset/A00051548/sub-A00051548_ses-NFB3_T1w_brainmask.nii.gz',\n",
              " '/content/drive/MyDrive/NFBS_Dataset/A00045590/sub-A00045590_ses-NFB3_T1w_brainmask.nii.gz',\n",
              " '/content/drive/MyDrive/NFBS_Dataset/A00043998/sub-A00043998_ses-NFB3_T1w_brainmask.nii.gz',\n",
              " '/content/drive/MyDrive/NFBS_Dataset/A00050940/sub-A00050940_ses-NFB3_T1w_brainmask.nii.gz',\n",
              " '/content/drive/MyDrive/NFBS_Dataset/A00043704/sub-A00043704_ses-NFB3_T1w_brainmask.nii.gz',\n",
              " '/content/drive/MyDrive/NFBS_Dataset/A00043722/sub-A00043722_ses-NFB3_T1w_brainmask.nii.gz',\n",
              " '/content/drive/MyDrive/NFBS_Dataset/A00051676/sub-A00051676_ses-NFB3_T1w_brainmask.nii.gz',\n",
              " '/content/drive/MyDrive/NFBS_Dataset/A00051539/sub-A00051539_ses-NFB3_T1w_brainmask.nii.gz',\n",
              " '/content/drive/MyDrive/NFBS_Dataset/A00043677/sub-A00043677_ses-NFB3_T1w_brainmask.nii.gz',\n",
              " '/content/drive/MyDrive/NFBS_Dataset/A00040151/sub-A00040151_ses-NFB3_T1w_brainmask.nii.gz',\n",
              " '/content/drive/MyDrive/NFBS_Dataset/A00040573/sub-A00040573_ses-NFB3_T1w_brainmask.nii.gz',\n",
              " '/content/drive/MyDrive/NFBS_Dataset/A00040944/sub-A00040944_ses-NFB3_T1w_brainmask.nii.gz',\n",
              " '/content/drive/MyDrive/NFBS_Dataset/A00043520/sub-A00043520_ses-NFB3_T1w_brainmask.nii.gz',\n",
              " '/content/drive/MyDrive/NFBS_Dataset/A00043299/sub-A00043299_ses-NFB3_T1w_brainmask.nii.gz',\n",
              " '/content/drive/MyDrive/NFBS_Dataset/A00040524/sub-A00040524_ses-NFB3_T1w_brainmask.nii.gz',\n",
              " '/content/drive/MyDrive/NFBS_Dataset/A00040640/sub-A00040640_ses-NFB3_T1w_brainmask.nii.gz',\n",
              " '/content/drive/MyDrive/NFBS_Dataset/A00040623/sub-A00040623_ses-NFB3_T1w_brainmask.nii.gz',\n",
              " '/content/drive/MyDrive/NFBS_Dataset/A00040193/sub-A00040193_ses-NFB3_T1w_brainmask.nii.gz',\n",
              " '/content/drive/MyDrive/NFBS_Dataset/A00040628/sub-A00040628_ses-NFB3_T1w_brainmask.nii.gz',\n",
              " '/content/drive/MyDrive/NFBS_Dataset/A00037511/sub-A00037511_ses-NFB3_T1w_brainmask.nii.gz',\n",
              " '/content/drive/MyDrive/NFBS_Dataset/A00035827/sub-A00035827_ses-NFB3_T1w_brainmask.nii.gz',\n",
              " '/content/drive/MyDrive/NFBS_Dataset/A00035072/sub-A00035072_ses-NFB3_T1w_brainmask.nii.gz',\n",
              " '/content/drive/MyDrive/NFBS_Dataset/A00038998/sub-A00038998_ses-NFB3_T1w_brainmask.nii.gz',\n",
              " '/content/drive/MyDrive/NFBS_Dataset/A00039391/sub-A00039391_ses-NFB3_T1w_brainmask.nii.gz',\n",
              " '/content/drive/MyDrive/NFBS_Dataset/A00039431/sub-A00039431_ses-NFB3_T1w_brainmask.nii.gz',\n",
              " '/content/drive/MyDrive/NFBS_Dataset/A00037112/sub-A00037112_ses-NFB3_T1w_brainmask.nii.gz',\n",
              " '/content/drive/MyDrive/NFBS_Dataset/A00035840/sub-A00035840_ses-NFB3_T1w_brainmask.nii.gz',\n",
              " '/content/drive/MyDrive/NFBS_Dataset/A00038642/sub-A00038642_ses-NFB3_T1w_brainmask.nii.gz',\n",
              " '/content/drive/MyDrive/NFBS_Dataset/A00037848/sub-A00037848_ses-NFB3_T1w_brainmask.nii.gz',\n",
              " '/content/drive/MyDrive/NFBS_Dataset/A00028352/sub-A00028352_ses-NFB3_T1w_brainmask.nii.gz',\n",
              " '/content/drive/MyDrive/NFBS_Dataset/A00032875/sub-A00032875_ses-NFB3_T1w_brainmask.nii.gz',\n",
              " '/content/drive/MyDrive/NFBS_Dataset/A00033747/sub-A00033747_ses-NFB3_T1w_brainmask.nii.gz',\n",
              " '/content/drive/MyDrive/NFBS_Dataset/A00028185/sub-A00028185_ses-NFB3_T1w_brainmask.nii.gz',\n",
              " '/content/drive/MyDrive/NFBS_Dataset/A00034854/sub-A00034854_ses-NFB3_T1w_brainmask.nii.gz']"
            ]
          },
          "metadata": {},
          "execution_count": 10
        }
      ]
    },
    {
      "cell_type": "code",
      "source": [
        "vimgs_t1 = [os.path.join(Droot,d,_) for d in dirs for _ in os.listdir(os.path.join(Droot,d)) if _.endswith(h3)]\n",
        "print(len(vimgs_t1))\n",
        "vimgs_t1"
      ],
      "metadata": {
        "id": "4tyEmHniemzy",
        "colab": {
          "base_uri": "https://localhost:8080/"
        },
        "outputId": "4aaebc6b-2ad6-4403-b03c-ee5bd3220fd2"
      },
      "execution_count": null,
      "outputs": [
        {
          "output_type": "stream",
          "name": "stdout",
          "text": [
            "125\n"
          ]
        },
        {
          "output_type": "execute_result",
          "data": {
            "text/plain": [
              "['/content/drive/MyDrive/NFBS_Dataset/A00063589/sub-A00063589_ses-NFB3_T1w.nii.gz',\n",
              " '/content/drive/MyDrive/NFBS_Dataset/A00063368/sub-A00063368_ses-NFB3_T1w.nii.gz',\n",
              " '/content/drive/MyDrive/NFBS_Dataset/A00062917/sub-A00062917_ses-NFB3_T1w.nii.gz',\n",
              " '/content/drive/MyDrive/NFBS_Dataset/A00063008/sub-A00063008_ses-NFB3_T1w.nii.gz',\n",
              " '/content/drive/MyDrive/NFBS_Dataset/A00063103/sub-A00063103_ses-NFB3_T1w.nii.gz',\n",
              " '/content/drive/MyDrive/NFBS_Dataset/A00062351/sub-A00062351_ses-NFB3_T1w.nii.gz',\n",
              " '/content/drive/MyDrive/NFBS_Dataset/A00062934/sub-A00062934_ses-NFB3_T1w.nii.gz',\n",
              " '/content/drive/MyDrive/NFBS_Dataset/A00064081/sub-A00064081_ses-NFB3_T1w.nii.gz',\n",
              " '/content/drive/MyDrive/NFBS_Dataset/A00063326/sub-A00063326_ses-NFB3_T1w.nii.gz',\n",
              " '/content/drive/MyDrive/NFBS_Dataset/A00062942/sub-A00062942_ses-NFB3_T1w.nii.gz',\n",
              " '/content/drive/MyDrive/NFBS_Dataset/A00061711/sub-A00061711_ses-NFB3_T1w.nii.gz',\n",
              " '/content/drive/MyDrive/NFBS_Dataset/A00061806/sub-A00061806_ses-NFB3_T1w.nii.gz',\n",
              " '/content/drive/MyDrive/NFBS_Dataset/A00061276/sub-A00061276_ses-NFB3_T1w.nii.gz',\n",
              " '/content/drive/MyDrive/NFBS_Dataset/A00062288/sub-A00062288_ses-NFB3_T1w.nii.gz',\n",
              " '/content/drive/MyDrive/NFBS_Dataset/A00062266/sub-A00062266_ses-NFB3_T1w.nii.gz',\n",
              " '/content/drive/MyDrive/NFBS_Dataset/A00062210/sub-A00062210_ses-NFB3_T1w.nii.gz',\n",
              " '/content/drive/MyDrive/NFBS_Dataset/A00062248/sub-A00062248_ses-NFB3_T1w.nii.gz',\n",
              " '/content/drive/MyDrive/NFBS_Dataset/A00061709/sub-A00061709_ses-NFB3_T1w.nii.gz',\n",
              " '/content/drive/MyDrive/NFBS_Dataset/A00061387/sub-A00061387_ses-NFB3_T1w.nii.gz',\n",
              " '/content/drive/MyDrive/NFBS_Dataset/A00062282/sub-A00062282_ses-NFB3_T1w.nii.gz',\n",
              " '/content/drive/MyDrive/NFBS_Dataset/A00060372/sub-A00060372_ses-NFB3_T1w.nii.gz',\n",
              " '/content/drive/MyDrive/NFBS_Dataset/A00060430/sub-A00060430_ses-NFB3_T1w.nii.gz',\n",
              " '/content/drive/MyDrive/NFBS_Dataset/A00061204/sub-A00061204_ses-NFB3_T1w.nii.gz',\n",
              " '/content/drive/MyDrive/NFBS_Dataset/A00060516/sub-A00060516_ses-NFB3_T1w.nii.gz',\n",
              " '/content/drive/MyDrive/NFBS_Dataset/A00060632/sub-A00060632_ses-NFB3_T1w.nii.gz',\n",
              " '/content/drive/MyDrive/NFBS_Dataset/A00060407/sub-A00060407_ses-NFB3_T1w.nii.gz',\n",
              " '/content/drive/MyDrive/NFBS_Dataset/A00060480/sub-A00060480_ses-NFB3_T1w.nii.gz',\n",
              " '/content/drive/MyDrive/NFBS_Dataset/A00060848/sub-A00060848_ses-NFB3_T1w.nii.gz',\n",
              " '/content/drive/MyDrive/NFBS_Dataset/A00060925/sub-A00060925_ses-NFB3_T1w.nii.gz',\n",
              " '/content/drive/MyDrive/NFBS_Dataset/A00060471/sub-A00060471_ses-NFB3_T1w.nii.gz',\n",
              " '/content/drive/MyDrive/NFBS_Dataset/A00060279/sub-A00060279_ses-NFB3_T1w.nii.gz',\n",
              " '/content/drive/MyDrive/NFBS_Dataset/A00059845/sub-A00059845_ses-NFB3_T1w.nii.gz',\n",
              " '/content/drive/MyDrive/NFBS_Dataset/A00059346/sub-A00059346_ses-NFB3_T1w.nii.gz',\n",
              " '/content/drive/MyDrive/NFBS_Dataset/A00060259/sub-A00060259_ses-NFB3_T1w.nii.gz',\n",
              " '/content/drive/MyDrive/NFBS_Dataset/A00060093/sub-A00060093_ses-NFB3_T1w.nii.gz',\n",
              " '/content/drive/MyDrive/NFBS_Dataset/A00060006/sub-A00060006_ses-NFB3_T1w.nii.gz',\n",
              " '/content/drive/MyDrive/NFBS_Dataset/A00060169/sub-A00060169_ses-NFB3_T1w.nii.gz',\n",
              " '/content/drive/MyDrive/NFBS_Dataset/A00059428/sub-A00059428_ses-NFB3_T1w.nii.gz',\n",
              " '/content/drive/MyDrive/NFBS_Dataset/A00059911/sub-A00059911_ses-NFB3_T1w.nii.gz',\n",
              " '/content/drive/MyDrive/NFBS_Dataset/A00059756/sub-A00059756_ses-NFB3_T1w.nii.gz',\n",
              " '/content/drive/MyDrive/NFBS_Dataset/A00058218/sub-A00058218_ses-NFB3_T1w.nii.gz',\n",
              " '/content/drive/MyDrive/NFBS_Dataset/A00058214/sub-A00058214_ses-NFB3_T1w.nii.gz',\n",
              " '/content/drive/MyDrive/NFBS_Dataset/A00059344/sub-A00059344_ses-NFB3_T1w.nii.gz',\n",
              " '/content/drive/MyDrive/NFBS_Dataset/A00057965/sub-A00057965_ses-NFB3_T1w.nii.gz',\n",
              " '/content/drive/MyDrive/NFBS_Dataset/A00057808/sub-A00057808_ses-NFB3_T1w.nii.gz',\n",
              " '/content/drive/MyDrive/NFBS_Dataset/A00058552/sub-A00058552_ses-NFB3_T1w.nii.gz',\n",
              " '/content/drive/MyDrive/NFBS_Dataset/A00058667/sub-A00058667_ses-NFB3_T1w.nii.gz',\n",
              " '/content/drive/MyDrive/NFBS_Dataset/A00058503/sub-A00058503_ses-NFB3_T1w.nii.gz',\n",
              " '/content/drive/MyDrive/NFBS_Dataset/A00058952/sub-A00058952_ses-NFB3_T1w.nii.gz',\n",
              " '/content/drive/MyDrive/NFBS_Dataset/A00058999/sub-A00058999_ses-NFB3_T1w.nii.gz',\n",
              " '/content/drive/MyDrive/NFBS_Dataset/A00057444/sub-A00057444_ses-NFB3_T1w.nii.gz',\n",
              " '/content/drive/MyDrive/NFBS_Dataset/A00057235/sub-A00057235_ses-NFB3_T1w.nii.gz',\n",
              " '/content/drive/MyDrive/NFBS_Dataset/A00057005/sub-A00057005_ses-NFB3_T1w.nii.gz',\n",
              " '/content/drive/MyDrive/NFBS_Dataset/A00057786/sub-A00057786_ses-NFB3_T1w.nii.gz',\n",
              " '/content/drive/MyDrive/NFBS_Dataset/A00057203/sub-A00057203_ses-NFB3_T1w.nii.gz',\n",
              " '/content/drive/MyDrive/NFBS_Dataset/A00057182/sub-A00057182_ses-NFB3_T1w.nii.gz',\n",
              " '/content/drive/MyDrive/NFBS_Dataset/A00056898/sub-A00056898_ses-NFB3_T1w.nii.gz',\n",
              " '/content/drive/MyDrive/NFBS_Dataset/A00057035/sub-A00057035_ses-NFB3_T1w.nii.gz',\n",
              " '/content/drive/MyDrive/NFBS_Dataset/A00056949/sub-A00056949_ses-NFB3_T1w.nii.gz',\n",
              " '/content/drive/MyDrive/NFBS_Dataset/A00057372/sub-A00057372_ses-NFB3_T1w.nii.gz',\n",
              " '/content/drive/MyDrive/NFBS_Dataset/A00055447/sub-A00055447_ses-NFB3_T1w.nii.gz',\n",
              " '/content/drive/MyDrive/NFBS_Dataset/A00055763/sub-A00055763_ses-NFB3_T1w.nii.gz',\n",
              " '/content/drive/MyDrive/NFBS_Dataset/A00055542/sub-A00055542_ses-NFB3_T1w.nii.gz',\n",
              " '/content/drive/MyDrive/NFBS_Dataset/A00056556/sub-A00056556_ses-NFB3_T1w.nii.gz',\n",
              " '/content/drive/MyDrive/NFBS_Dataset/A00056306/sub-A00056306_ses-NFB3_T1w.nii.gz',\n",
              " '/content/drive/MyDrive/NFBS_Dataset/A00056097/sub-A00056097_ses-NFB3_T1w.nii.gz',\n",
              " '/content/drive/MyDrive/NFBS_Dataset/A00055806/sub-A00055806_ses-NFB3_T1w.nii.gz',\n",
              " '/content/drive/MyDrive/NFBS_Dataset/A00056627/sub-A00056627_ses-NFB3_T1w.nii.gz',\n",
              " '/content/drive/MyDrive/NFBS_Dataset/A00055738/sub-A00055738_ses-NFB3_T1w.nii.gz',\n",
              " '/content/drive/MyDrive/NFBS_Dataset/A00056452/sub-A00056452_ses-NFB3_T1w.nii.gz',\n",
              " '/content/drive/MyDrive/NFBS_Dataset/A00054914/sub-A00054914_ses-NFB3_T1w.nii.gz',\n",
              " '/content/drive/MyDrive/NFBS_Dataset/A00053902/sub-A00053902_ses-NFB3_T1w.nii.gz',\n",
              " '/content/drive/MyDrive/NFBS_Dataset/A00054441/sub-A00054441_ses-NFB3_T1w.nii.gz',\n",
              " '/content/drive/MyDrive/NFBS_Dataset/A00055446/sub-A00055446_ses-NFB3_T1w.nii.gz',\n",
              " '/content/drive/MyDrive/NFBS_Dataset/A00055121/sub-A00055121_ses-NFB3_T1w.nii.gz',\n",
              " '/content/drive/MyDrive/NFBS_Dataset/A00053851/sub-A00053851_ses-NFB3_T1w.nii.gz',\n",
              " '/content/drive/MyDrive/NFBS_Dataset/A00055373/sub-A00055373_ses-NFB3_T1w.nii.gz',\n",
              " '/content/drive/MyDrive/NFBS_Dataset/A00054504/sub-A00054504_ses-NFB3_T1w.nii.gz',\n",
              " '/content/drive/MyDrive/NFBS_Dataset/A00054857/sub-A00054857_ses-NFB3_T1w.nii.gz',\n",
              " '/content/drive/MyDrive/NFBS_Dataset/A00054019/sub-A00054019_ses-NFB3_T1w.nii.gz',\n",
              " '/content/drive/MyDrive/NFBS_Dataset/A00053455/sub-A00053455_ses-NFB3_T1w.nii.gz',\n",
              " '/content/drive/MyDrive/NFBS_Dataset/A00053473/sub-A00053473_ses-NFB3_T1w.nii.gz',\n",
              " '/content/drive/MyDrive/NFBS_Dataset/A00052500/sub-A00052500_ses-NFB3_T1w.nii.gz',\n",
              " '/content/drive/MyDrive/NFBS_Dataset/A00053475/sub-A00053475_ses-NFB3_T1w.nii.gz',\n",
              " '/content/drive/MyDrive/NFBS_Dataset/A00051927/sub-A00051927_ses-NFB3_T1w.nii.gz',\n",
              " '/content/drive/MyDrive/NFBS_Dataset/A00053850/sub-A00053850_ses-NFB3_T1w.nii.gz',\n",
              " '/content/drive/MyDrive/NFBS_Dataset/A00052340/sub-A00052340_ses-NFB3_T1w.nii.gz',\n",
              " '/content/drive/MyDrive/NFBS_Dataset/A00052125/sub-A00052125_ses-NFB3_T1w.nii.gz',\n",
              " '/content/drive/MyDrive/NFBS_Dataset/A00052181/sub-A00052181_ses-NFB3_T1w.nii.gz',\n",
              " '/content/drive/MyDrive/NFBS_Dataset/A00052560/sub-A00052560_ses-NFB3_T1w.nii.gz',\n",
              " '/content/drive/MyDrive/NFBS_Dataset/A00043721/sub-A00043721_ses-NFB3_T1w.nii.gz',\n",
              " '/content/drive/MyDrive/NFBS_Dataset/A00051548/sub-A00051548_ses-NFB3_T1w.nii.gz',\n",
              " '/content/drive/MyDrive/NFBS_Dataset/A00045590/sub-A00045590_ses-NFB3_T1w.nii.gz',\n",
              " '/content/drive/MyDrive/NFBS_Dataset/A00043998/sub-A00043998_ses-NFB3_T1w.nii.gz',\n",
              " '/content/drive/MyDrive/NFBS_Dataset/A00050940/sub-A00050940_ses-NFB3_T1w.nii.gz',\n",
              " '/content/drive/MyDrive/NFBS_Dataset/A00043704/sub-A00043704_ses-NFB3_T1w.nii.gz',\n",
              " '/content/drive/MyDrive/NFBS_Dataset/A00043722/sub-A00043722_ses-NFB3_T1w.nii.gz',\n",
              " '/content/drive/MyDrive/NFBS_Dataset/A00051676/sub-A00051676_ses-NFB3_T1w.nii.gz',\n",
              " '/content/drive/MyDrive/NFBS_Dataset/A00051539/sub-A00051539_ses-NFB3_T1w.nii.gz',\n",
              " '/content/drive/MyDrive/NFBS_Dataset/A00043677/sub-A00043677_ses-NFB3_T1w.nii.gz',\n",
              " '/content/drive/MyDrive/NFBS_Dataset/A00040151/sub-A00040151_ses-NFB3_T1w.nii.gz',\n",
              " '/content/drive/MyDrive/NFBS_Dataset/A00040573/sub-A00040573_ses-NFB3_T1w.nii.gz',\n",
              " '/content/drive/MyDrive/NFBS_Dataset/A00040944/sub-A00040944_ses-NFB3_T1w.nii.gz',\n",
              " '/content/drive/MyDrive/NFBS_Dataset/A00043520/sub-A00043520_ses-NFB3_T1w.nii.gz',\n",
              " '/content/drive/MyDrive/NFBS_Dataset/A00043299/sub-A00043299_ses-NFB3_T1w.nii.gz',\n",
              " '/content/drive/MyDrive/NFBS_Dataset/A00040524/sub-A00040524_ses-NFB3_T1w.nii.gz',\n",
              " '/content/drive/MyDrive/NFBS_Dataset/A00040640/sub-A00040640_ses-NFB3_T1w.nii.gz',\n",
              " '/content/drive/MyDrive/NFBS_Dataset/A00040623/sub-A00040623_ses-NFB3_T1w.nii.gz',\n",
              " '/content/drive/MyDrive/NFBS_Dataset/A00040193/sub-A00040193_ses-NFB3_T1w.nii.gz',\n",
              " '/content/drive/MyDrive/NFBS_Dataset/A00040628/sub-A00040628_ses-NFB3_T1w.nii.gz',\n",
              " '/content/drive/MyDrive/NFBS_Dataset/A00037511/sub-A00037511_ses-NFB3_T1w.nii.gz',\n",
              " '/content/drive/MyDrive/NFBS_Dataset/A00035827/sub-A00035827_ses-NFB3_T1w.nii.gz',\n",
              " '/content/drive/MyDrive/NFBS_Dataset/A00035072/sub-A00035072_ses-NFB3_T1w.nii.gz',\n",
              " '/content/drive/MyDrive/NFBS_Dataset/A00038998/sub-A00038998_ses-NFB3_T1w.nii.gz',\n",
              " '/content/drive/MyDrive/NFBS_Dataset/A00039391/sub-A00039391_ses-NFB3_T1w.nii.gz',\n",
              " '/content/drive/MyDrive/NFBS_Dataset/A00039431/sub-A00039431_ses-NFB3_T1w.nii.gz',\n",
              " '/content/drive/MyDrive/NFBS_Dataset/A00037112/sub-A00037112_ses-NFB3_T1w.nii.gz',\n",
              " '/content/drive/MyDrive/NFBS_Dataset/A00035840/sub-A00035840_ses-NFB3_T1w.nii.gz',\n",
              " '/content/drive/MyDrive/NFBS_Dataset/A00038642/sub-A00038642_ses-NFB3_T1w.nii.gz',\n",
              " '/content/drive/MyDrive/NFBS_Dataset/A00037848/sub-A00037848_ses-NFB3_T1w.nii.gz',\n",
              " '/content/drive/MyDrive/NFBS_Dataset/A00028352/sub-A00028352_ses-NFB3_T1w.nii.gz',\n",
              " '/content/drive/MyDrive/NFBS_Dataset/A00032875/sub-A00032875_ses-NFB3_T1w.nii.gz',\n",
              " '/content/drive/MyDrive/NFBS_Dataset/A00033747/sub-A00033747_ses-NFB3_T1w.nii.gz',\n",
              " '/content/drive/MyDrive/NFBS_Dataset/A00028185/sub-A00028185_ses-NFB3_T1w.nii.gz',\n",
              " '/content/drive/MyDrive/NFBS_Dataset/A00034854/sub-A00034854_ses-NFB3_T1w.nii.gz']"
            ]
          },
          "metadata": {},
          "execution_count": 11
        }
      ]
    },
    {
      "cell_type": "code",
      "source": [
        "data_paths = [(_1,_2,_3) for _1,_2,_3 in zip(vimgs,vimgs_mask,vimgs_t1)]\n",
        "data_paths\n",
        "\n",
        "del Droot, vimgs, vimgs_mask, vimgs_t1, h1, h2, h3, dirs\n",
        "\n",
        "data_paths\n",
        "\n",
        "import nibabel as nib\n",
        "import scipy.ndimage as ndi\n",
        "import matplotlib.pyplot as plt\n",
        "import os\n",
        "\n",
        "data = [(nib.load(_[0]).get_fdata(), nib.load(_[1]).get_fdata()) for _ in data_paths]\n",
        "type(data)\n",
        "\n",
        "import numpy as np\n",
        "vimgs = np.array([_[0] for _ in data])\n",
        "vimgs.shape\n",
        "\n",
        "vimgs_mask = np.array([_[1] for _ in data])\n",
        "vimgs_mask.shape"
      ],
      "metadata": {
        "id": "lDvCZ-IFep3r"
      },
      "execution_count": null,
      "outputs": []
    },
    {
      "cell_type": "code",
      "source": [
        "vimgs = np.reshape(vimgs,(vimgs.shape[0],vimgs.shape[1],vimgs.shape[2],vimgs.shape[3],1))\n",
        "vimgs_mask = np.reshape(vimgs_mask,(vimgs_mask.shape[0],vimgs_mask.shape[1],vimgs_mask.shape[2],vimgs_mask.shape[3],1))\n",
        "print(vimgs_mask.shape==vimgs.shape) # mask shape == vimg shape\n",
        "vimgs.shape"
      ],
      "metadata": {
        "id": "BIP3IqucewVQ"
      },
      "execution_count": null,
      "outputs": []
    },
    {
      "cell_type": "code",
      "source": [
        "print(vimgs_mask.shape == vimgs.shape)\n",
        "vimgs_mask.shape"
      ],
      "metadata": {
        "id": "Ey7xrh6rexP8"
      },
      "execution_count": null,
      "outputs": []
    },
    {
      "cell_type": "code",
      "source": [
        "IMG_WIDTH = 192\n",
        "IMG_HEIGHT = 256\n",
        "IMG_CHANNELS = 1\n",
        "\n",
        "def XYtrain_unit(k):\n",
        "    global vimgs, vimgs_mask\n",
        "    vx_ = vimgs[k]\n",
        "    vy_ = vimgs_mask[k]\n",
        "    vx_.shape\n",
        "\n",
        "    X_train = np.zeros((vx_.shape[1], IMG_HEIGHT, IMG_WIDTH, IMG_CHANNELS), dtype=np.uint8)\n",
        "    Y_train = np.zeros((vx_.shape[1], IMG_HEIGHT, IMG_WIDTH, 1), dtype=bool)\n",
        "\n",
        "    X_train.shape\n",
        "    for slic in range(vx_.shape[1]):\n",
        "       _x = vx_[slic,:,:,0]\n",
        "       _y = np.uint8(vy_[slic,:,:,0])\n",
        "\n",
        "       X_train[slic] = _x.reshape((_x.shape[0],_x.shape[1],1))\n",
        "       Y_train[slic] = _y.reshape((_y.shape[0],_y.shape[1],1))\n",
        "\n",
        "    return X_train, Y_train\n",
        "\n",
        "XY = []\n",
        "for k in range(vimgs.shape[0]):\n",
        "    XY.append(XYtrain_unit(k))\n",
        "\n",
        "print(len(XY))"
      ],
      "metadata": {
        "id": "1DgmOdhne1ZJ"
      },
      "execution_count": null,
      "outputs": []
    },
    {
      "cell_type": "code",
      "source": [
        "print(type(XY[0][0]))\n",
        "print(XY[0][0].shape == XY[0][1].shape)\n",
        "XY[0][1].shape"
      ],
      "metadata": {
        "id": "VOr-ciYGe7v5"
      },
      "execution_count": null,
      "outputs": []
    },
    {
      "cell_type": "code",
      "source": [
        "X = XY[0][0]\n",
        "Y = XY[0][1]\n",
        "for _ in XY[1:]:\n",
        "    X = np.concatenate([X, _[0]])\n",
        "    Y = np.concatenate([Y, _[1]])\n",
        "X.shape==Y.shape"
      ],
      "metadata": {
        "id": "LrWA6j8fe8Qp"
      },
      "execution_count": null,
      "outputs": []
    },
    {
      "cell_type": "code",
      "source": [
        "import pickle\n",
        "with open('NFBSXTr', 'wb') as file:\n",
        "    pickle.dump(X, file)\n",
        "del file\n",
        "with open('NFBSYTr', 'wb') as file:\n",
        "    pickle.dump(Y, file)\n",
        "del file"
      ],
      "metadata": {
        "id": "oeyEdmRHe-EY"
      },
      "execution_count": null,
      "outputs": []
    },
    {
      "cell_type": "code",
      "source": [
        "#LOAD\n",
        "import pickle\n",
        "with open('NFBSXTr', 'rb') as file:\n",
        "    X = pickle.load(file)\n",
        "del file\n",
        "with open('NFBSYTr', 'rb') as file:\n",
        "    Y = pickle.load(file)\n",
        "del file"
      ],
      "metadata": {
        "id": "AbkjpKC2ggpA"
      },
      "execution_count": null,
      "outputs": []
    },
    {
      "cell_type": "code",
      "source": [
        "import tensorflow as tf\n",
        "import os\n",
        "import numpy as np\n",
        "from tqdm import tqdm\n",
        "from skimage.io import imread, imshow\n",
        "from sklearn.model_selection import train_test_split\n",
        "import matplotlib.pyplot as plt\n",
        "\n",
        "X_train, X_test, Y_train, Y_test = train_test_split(X, Y, test_size=0.33, random_state=42)\n",
        "\n",
        "print(X_train.shape==Y_train.shape)\n",
        "X_train.shape"
      ],
      "metadata": {
        "id": "BJU2yrlCfB0a"
      },
      "execution_count": null,
      "outputs": []
    },
    {
      "cell_type": "code",
      "source": [
        "print(X_test.shape==Y_test.shape)\n",
        "X_test.shape"
      ],
      "metadata": {
        "id": "rwoyYxVGgxbq"
      },
      "execution_count": null,
      "outputs": []
    },
    {
      "cell_type": "code",
      "source": [
        "import random\n",
        "seed = 42\n",
        "np.random.seed = seed\n",
        "\n",
        "image_x = random.randint(0, X_train.shape[0])\n",
        "plt.subplot(221), plt.imshow(X_train[image_x]), plt.title('Train image (random)')\n",
        "plt.subplot(222), imshow(np.squeeze(Y_train[image_x])), plt.title('Train mask')\n",
        "plt.show()\n",
        "\n",
        "image_x_test = random.randint(0, X_test.shape[0])\n",
        "plt.subplot(223), plt.imshow(X_train[image_x_test]),plt.title('Test image (random')\n",
        "plt.subplot(224), imshow(np.squeeze(Y_train[image_x_test])),plt.title('Test image')\n",
        "plt.show()"
      ],
      "metadata": {
        "id": "AZTdQ1P_fFtV"
      },
      "execution_count": null,
      "outputs": []
    },
    {
      "cell_type": "code",
      "source": [
        "X_train = tf.convert_to_tensor(X_train)\n",
        "Y_train = tf.convert_to_tensor(Y_train)\n",
        "print(type(X_train)==type(Y_train))\n",
        "type(X_train)"
      ],
      "metadata": {
        "id": "nTaovH3LfH-U"
      },
      "execution_count": null,
      "outputs": []
    },
    {
      "cell_type": "code",
      "source": [
        "adapt(X_train, batch_size=None, steps=None)"
      ],
      "metadata": {
        "id": "azKRgQM5fKK4"
      },
      "execution_count": null,
      "outputs": []
    },
    {
      "cell_type": "code",
      "source": [
        "whos"
      ],
      "metadata": {
        "id": "zSOw051LhAp7"
      },
      "execution_count": null,
      "outputs": []
    },
    {
      "cell_type": "markdown",
      "source": [
        "# Losses"
      ],
      "metadata": {
        "id": "8IQukPTZhXT1"
      }
    },
    {
      "cell_type": "markdown",
      "source": [
        "$Dice=\\frac{2*Intersection}{Union+Intersection}$"
      ],
      "metadata": {
        "id": "Czo3qFt3RhK_"
      }
    },
    {
      "cell_type": "code",
      "source": [
        "def Dice(P,T):\n",
        "    print(P,T)\n",
        "    #print(logits, y)\n",
        "    #o = tf.ones((256,256,1))\n",
        "    #P = tf.where(P, o * 1.0, o * 0.0)\n",
        "    I=tf.math.abs(tf.reduce_sum(tf.math.multiply(P,T)))\n",
        "    U=tf.math.abs(tf.reduce_sum(T+P-(T*P)))\n",
        "        #tf.math.subtract(tf.math.add(logits,y),tf.math.multiply(logits,y)))\n",
        "    dice=(2*I)/(U+I)#tf.math.subtract(tf.constant(1.0, dtype=tf.float32),tf.math.divide(inter,union))\n",
        "    return 1-dice"
      ],
      "metadata": {
        "id": "9HW90ccHhbsq"
      },
      "execution_count": null,
      "outputs": []
    },
    {
      "cell_type": "markdown",
      "source": [
        "$IoU'=\\frac{|T*P|}{|T+P-(T*P)|}=\\frac{I}{U}$"
      ],
      "metadata": {
        "id": "QduuDovuSyjo"
      }
    },
    {
      "cell_type": "code",
      "source": [
        "def IoU(P,T):\n",
        "    #print(logits, y)\n",
        "    #o = tf.ones((256,192,1))\n",
        "    #P = tf.where(P, o * 1.0, o * 0.0)\n",
        "    I=tf.math.abs(tf.reduce_sum(tf.math.multiply(P,T)))\n",
        "    U=tf.math.abs(tf.reduce_sum(T+P-(T*P)))\n",
        "        #tf.math.subtract(tf.math.add(logits,y),tf.math.multiply(logits,y)))\n",
        "    iou=(I+1)/(U+1)#tf.math.subtract(tf.constant(1.0, dtype=tf.float32),tf.math.divide(inter,union))\n",
        "    return (1-iou)/(1+iou)"
      ],
      "metadata": {
        "id": "vnMD9CKaS28p"
      },
      "execution_count": null,
      "outputs": []
    },
    {
      "cell_type": "markdown",
      "source": [
        "# DNN Model Configs"
      ],
      "metadata": {
        "id": "8LJxaWCA3sMx"
      }
    },
    {
      "cell_type": "code",
      "source": [
        "# Model configuration options\n",
        "# of trainable filter configs. for DWTUnet\n",
        "config = {\n",
        "    'config2':(2,2,2,2,2,2),\n",
        "    'config4':(4,4,4,4,4,4),\n",
        "    'config8':(8,8,8,8,8,8),\n",
        "    'config16':(16,16,16,16,16,16),\n",
        "    'config32':(32,32,32,32,32,32),\n",
        "    'config64':(64,64,64,64,64,64),\n",
        "    'config42':(4,2,2,2,2,2),\n",
        "    'config82':(8,2,2,2,2,2),\n",
        "    'config162':(16,2,2,2,2,2),\n",
        "    'config322':(32,2,2,2,2,2),\n",
        "    'config642':(64,2,2,2,2,2),\n",
        "    'config84':(8,4,4,4,4,4),\n",
        "    'config164':(16,4,4,4,4,4),\n",
        "    'config322':(32,4,4,4,4,4),\n",
        "    'config644':(64,4,4,4,4,4),\n",
        "    'config168':(16,8,8,8,8,8),\n",
        "    'config328':(32,8,8,8,8,8),\n",
        "    'config648':(64,8,8,8,8,8),\n",
        "    'config3216':(32,16,16,16,16,16),\n",
        "    'config6416':(64,16,16,16,16,16),\n",
        "    'config6432':(64,32,32,32,32,32),\n",
        "    'config132':(1,2,4,8,16,32),\n",
        "    'config264':(2,4,8,16,32,64),\n",
        "    'config4128':(4,8,16,32,64,128),\n",
        "    'config8256':(8,16,32,64,128,256),\n",
        "    }"
      ],
      "metadata": {
        "id": "VRRmZ8OU3vFf"
      },
      "execution_count": null,
      "outputs": []
    },
    {
      "cell_type": "code",
      "source": [
        "##CONFIG: Trainable filters\n",
        "f,a,b,c,d,e=config['config2']\n",
        "global wave\n",
        "wave = 'haar'"
      ],
      "metadata": {
        "id": "Zgn0_3go349a"
      },
      "execution_count": null,
      "outputs": []
    },
    {
      "cell_type": "code",
      "source": [
        "def _generate_filter_image(input_img,\n",
        "                               layer_output,\n",
        "                               filter_index):\n",
        "        \"\"\"Generates image for one particular filter.\n",
        "        # Arguments\n",
        "            input_img: The input-image Tensor.\n",
        "            layer_output: The output-image Tensor.\n",
        "            filter_index: The to be processed filter number.\n",
        "                          Assumed to be valid.\n",
        "        #Returns\n",
        "            Either None if no image could be generated.\n",
        "            or a tuple of the image (array) itself and the last loss.\n",
        "        \"\"\"\n",
        "        # we build a loss function that maximizes the activation\n",
        "        if K.image_data_format() == 'channels_first':\n",
        "            loss = K.mean(layer_output[:, filter_index, :, :])\n",
        "        else:\n",
        "            loss = K.mean(layer_output[:, :, :, filter_index])\n",
        "\n",
        "        # we compute the gradient of the input picture wrt this loss\n",
        "        grads = K.gradients(loss, input_img)[0]\n",
        "\n",
        "        # normalization trick: we normalize the gradient\n",
        "        grads = normalize(grads)\n",
        "\n",
        "        # this function returns the loss and grads given the input picture\n",
        "        iterate = K.function([input_img], [loss, grads])\n",
        "\n",
        "        # we start from a gray image with some random noise\n",
        "        intermediate_dim = tuple(\n",
        "            int(x / (upscaling_factor ** upscaling_steps)) for x in output_dim)\n",
        "        if K.image_data_format() == 'channels_first':\n",
        "            input_img_data = np.random.random(\n",
        "                (1, 3, intermediate_dim[0], intermediate_dim[1]))\n",
        "        else:\n",
        "            input_img_data = np.random.random(\n",
        "                (1, intermediate_dim[0], intermediate_dim[1], 3))\n",
        "        input_img_data = (input_img_data - 0.5) * 20 + 128\n",
        "\n",
        "        # Slowly upscaling towards the original size prevents\n",
        "        # a dominating high-frequency of the to visualized structure\n",
        "        # as it would occur if we directly compute the 412d-image.\n",
        "        # Behaves as a better starting point for each following dimension\n",
        "        # and therefore avoids poor local minima\n",
        "        for up in reversed(range(upscaling_steps)):\n",
        "            for _ in range(epochs):\n",
        "                loss_value, grads_value = iterate([input_img_data])\n",
        "                input_img_data += grads_value * step\n",
        "\n",
        "                if loss_value <= K.epsilon():\n",
        "                    return None\n",
        "\n",
        "            # Calculate upscaled dimension\n",
        "            intermediate_dim = tuple(\n",
        "                int(x / (upscaling_factor ** up)) for x in output_dim)\n",
        "            # Upscale\n",
        "            img = deprocess_image(input_img_data[0])\n",
        "            img = np.array(pil_image.fromarray(img).resize(intermediate_dim,\n",
        "                                                           pil_image.BICUBIC))\n",
        "            input_img_data = np.expand_dims(\n",
        "                process_image(img, input_img_data[0]), 0)\n",
        "\n",
        "        # decode the resulting input image\n",
        "        img = deprocess_image(input_img_data[0])\n",
        "        e_time = time.time()\n",
        "        print('Costs of filter {:3}: {:5.0f} ( {:4.2f}s )'.format(filter_index,\n",
        "                                                                  loss_value,\n",
        "                                                                  e_time - s_time))\n",
        "        return img, loss_value"
      ],
      "metadata": {
        "id": "59NQNQV837Vf"
      },
      "execution_count": null,
      "outputs": []
    },
    {
      "cell_type": "code",
      "source": [
        "import tensorflow_wavelets.Layers.DWT as DWT\n",
        "#import keras\n",
        "\n",
        "## DWT\n",
        "class dwt(tf.keras.layers.Layer):\n",
        "  \"\"\"DWT Layer\"\"\"\n",
        "  def __init__(self):\n",
        "    super(dwt, self).__init__()\n",
        "    global wave\n",
        "    self.dwt = DWT.DWT(name=wave,concat=0)\n",
        "\n",
        "  def call(self, x):\n",
        "    return self.dwt(x)\n",
        "\n",
        "## IDWT\n",
        "class idwt(tf.keras.layers.Layer):\n",
        "  \"\"\"IDWT Layer\"\"\"\n",
        "  def __init__(self):\n",
        "    super(idwt, self).__init__()\n",
        "    global wave\n",
        "    self.idwt = DWT.IDWT(name=wave,splitted=1)\n",
        "\n",
        "  def call(self, x):\n",
        "    return self.idwt(x)"
      ],
      "metadata": {
        "id": "whf9cddgCLKq"
      },
      "execution_count": null,
      "outputs": []
    },
    {
      "cell_type": "code",
      "source": [
        "## Pooling layer\n",
        "import tensorflow as tf\n",
        "import tensorflow_wavelets.Layers.DWT as DWT\n",
        "#from Mish import Mish\n",
        "\n",
        "class Pooling(tf.keras.layers.Layer):\n",
        "    '''DWT Pooling Layer: keep Low freq band only\n",
        "          #separableConv2D\n",
        "          #Mish'''\n",
        "    def __init__(self, Ψ='', **kwargs):\n",
        "        super(Pooling, self).__init__(**kwargs)\n",
        "        self.supports_masking = True\n",
        "        self.Ψ = 'haar'\n",
        "        self.dwt = DWT.DWT(name=self.Ψ, concat=0)\n",
        "\n",
        "    def call(self, inputs):\n",
        "        \"\"\"inputs -> wave0 -> wave1 #\n",
        "        !!-> wave2 -> wave0_cap(inverse)\"\"\"\n",
        "        chans = inputs.shape[3]\n",
        "        wave0 = inputs #L0\n",
        "        wave1 = self.dwt(wave0) #L1\n",
        "\n",
        "        #wave2 = WaveTFFactory.build(wave_kern)(wave1[:,:,:,:chans])\n",
        "        #inv_wave0 = WaveTFFactory().build(wave_kern, inverse = True)(wave2)\n",
        "\n",
        "        #pool = DWT.DWT(name=wave,concat=0)(inputs)\n",
        "        return wave1[:,:,:,:chans]\n",
        "        #return tf.keras.layers.MaxPooling2D((2, 2))(inputs)\n",
        "        #return tf.keras.layers.AveragePooling2D((2, 2))(inputs)"
      ],
      "metadata": {
        "id": "XiMx-yAADbNj"
      },
      "execution_count": null,
      "outputs": []
    },
    {
      "cell_type": "code",
      "source": [
        "activation= 'relu'\n",
        "#activation = tfa.activations.mish\n",
        "\n",
        "#activation2='sigmoid'\n",
        "activation2='relu'\n",
        "\n",
        "activation3='sigmoid'\n",
        "#activation3='softmax' #bad perf.\n",
        "activation3 = tfa.activations.mish\n",
        "\n",
        "\n",
        "activation, activation2, activation3 = 'relu', 'relu', tfa.activations.mish #BEST CONFIG. ***"
      ],
      "metadata": {
        "id": "aIHFYt_kDbH5"
      },
      "execution_count": null,
      "outputs": []
    },
    {
      "cell_type": "markdown",
      "source": [
        "# Model"
      ],
      "metadata": {
        "id": "6OwnBMqfDYYy"
      }
    },
    {
      "cell_type": "code",
      "source": [
        "class MRImages_NFBS(tf.keras.utils.Sequence):\n",
        "    def __init__(self, parent_dir, view=None):\n",
        "        self.parent_dir = parent_dir\n",
        "        self.view = view\n",
        "        self.files = os.listdir(parent_dir)\n",
        "        # self.samples = samples\n",
        "\n",
        "    def __len__(self):\n",
        "      # 100 images for training rest 25 image used for testing\n",
        "        return 100\n",
        "\n",
        "    # returns single slices of frontal view\n",
        "    def frontal_view_imgs(self, data):\n",
        "      list_frontal_view_imgs = []\n",
        "      for i in range(256):\n",
        "        im_slice = data[i,:,:]\n",
        "        # im_resized = im_slice\n",
        "        im_resized = cv2.resize(im_slice, (256, 256))\n",
        "        del im_slice\n",
        "        list_frontal_view_imgs.append(np.expand_dims(im_resized, -1))\n",
        "\n",
        "      list_frontal_view_imgs = np.array(list_frontal_view_imgs)\n",
        "      return list_frontal_view_imgs\n",
        "\n",
        "    # returns single slices of side view\n",
        "    def side_view_imgs(self, data):\n",
        "      list_side_view_imgs = []\n",
        "      for i in range(192):\n",
        "\n",
        "        im_slice = data[:,:,i]\n",
        "\n",
        "        # im_resized = im_slice\n",
        "        im_resized = cv2.resize(im_slice, (256, 256))\n",
        "        del im_slice\n",
        "\n",
        "        list_side_view_imgs.append(np.expand_dims(im_resized, -1))\n",
        "\n",
        "      list_side_view_imgs = np.array(list_side_view_imgs)\n",
        "      return list_side_view_imgs\n",
        "\n",
        "    # returns single slices of top view\n",
        "    def top_view_imgs(self, data):\n",
        "      list_top_view_imgs = []\n",
        "      for i in range(256):\n",
        "          im_slice = data[:, i, :]\n",
        "          # im_resized = im_slice\n",
        "          im_resized =  cv2.resize(im_slice, (256, 256))\n",
        "          list_top_view_imgs.append(np.expand_dims(im_resized, -1))\n",
        "\n",
        "      list_top_view_imgs = np.array(list_top_view_imgs)\n",
        "      return list_top_view_imgs\n",
        "\n",
        "    # returns i_th image from ISBR w.r.t view\n",
        "    def __getitem__(self, i):\n",
        "        # print(self.files)\n",
        "        folder_path = os.listdir(os.path.join(self.parent_dir, self.files[i]))\n",
        "        folder_path.sort()\n",
        "\n",
        "        img_path = os.path.join(self.parent_dir, self.files[i], folder_path[0])\n",
        "        mask_path = os.path.join(self.parent_dir, self.files[i], folder_path[2])\n",
        "\n",
        "        img = nib.load(img_path).get_fdata()\n",
        "        mask = nib.load(mask_path).get_fdata()\n",
        "\n",
        "        img = np.squeeze(img)\n",
        "        mask = np.squeeze(mask)\n",
        "        # img = zoom(img, (0.5, 0.5, 128/192))\n",
        "        # mask = zoom(mask, (0.5, 1, 128/192))\n",
        "\n",
        "\n",
        "        if self.view == \"top\":\n",
        "          t_images = self.top_view_imgs(img)\n",
        "          t_mask = self.top_view_imgs(mask)\n",
        "          return t_images, t_mask\n",
        "\n",
        "        elif self.view == \"side\":\n",
        "          s_images = self.side_view_imgs(img)\n",
        "          s_mask = self.side_view_imgs(mask)\n",
        "\n",
        "          return s_images, s_mask\n",
        "\n",
        "\n",
        "        elif self.view == \"frontal\":\n",
        "          f_images = self.frontal_view_imgs(img)\n",
        "          f_mask = self.frontal_view_imgs(mask)\n",
        "\n",
        "          return f_images, f_mask"
      ],
      "metadata": {
        "id": "htO7xlfRAaXJ"
      },
      "execution_count": null,
      "outputs": []
    },
    {
      "cell_type": "code",
      "source": [
        "# Type 1\n",
        "\n",
        "#from keras.engine.training import h5py\n",
        "inputs = tf.keras.layers.Input((256, 256, 1))\n",
        "#inputs = tf.keras.layers.Input((256, 256, 1))\n",
        "s = tf.keras.layers.Lambda(lambda x: x / 255)(inputs)\n",
        "#inputs = tf.keras.layers.Input((256, 192, 1))\n",
        "# inputs_resiz  = tf.keras.layers.Resizing(\n",
        "#                 height=256,\n",
        "#                 width=256,\n",
        "#                 interpolation='bilinear',\n",
        "#                 crop_to_aspect_ratio=False\n",
        "#             )(inputs)\n",
        "# s = tf.keras.layers.Lambda(lambda x: x / 255)(inputs_resiz)\n",
        "\n",
        "\n",
        "\"\"\"\n",
        "# DWT\n",
        "Ψ = 'haar'\n",
        "c = 1\n",
        "w1 = WaveTFFactory.build(Ψ)(s)\n",
        "l1, h1 = w1[:,:,:,:c], w1[:,:,:,c:]\n",
        "#\n",
        "w2 = WaveTFFactory.build(Ψ)(l1)\n",
        "l2, h2 = w2[:,:,:,:c], w2[:,:,:,c:]\n",
        "#\n",
        "w3 = WaveTFFactory.build(Ψ)(l2)\n",
        "l3, h3 = w3[:,:,:,:c], w3[:,:,:,c:]\n",
        "#\n",
        "w4 = WaveTFFactory.build(Ψ)(l3)\n",
        "l4, h4 = w4[:,:,:,:c], w4[:,:,:,c:]\n",
        "#\n",
        "w5 = WaveTFFactory.build(Ψ)(l4)\n",
        "l5, h5 = w5[:,:,:,:c], w5[:,:,:,c:]\n",
        "#\n",
        "w6 = WaveTFFactory.build(Ψ)(l5)\n",
        "l6, h6 = w6[:,:,:,:c], w6[:,:,:,c:]\n",
        "\"\"\"\n",
        "\n",
        "# DWT\n",
        "#wave = 'haar'\n",
        "#dwt1 = DWT.DWT(name=wave,concat=0)\n",
        "#dwt2 = DWT.DWT(name=wave,concat=0)\n",
        "#dwt3 = DWT.DWT(name=wave,concat=0)\n",
        "#dwt4 = DWT.DWT(name=wave,concat=0)\n",
        "#dwt5 = DWT.DWT(name=wave,concat=0)\n",
        "#dwt6 = DWT.DWT(name=wave,concat=0)\n",
        "#idwt1 = DWT.IDWT(wavelet_name=wave, splited = 1)\n",
        "#idwt2 = DWT.IDWT(wavelet_name=wave, splited = 1)\n",
        "#idwt3 = DWT.IDWT(wavelet_name=wave, splited = 1)\n",
        "#idwt4 = DWT.IDWT(wavelet_name=wave, splited = 1)\n",
        "#idwt5 = DWT.IDWT(wavelet_name=wave, splited = 1)\n",
        "#idwt6 = DWT.IDWT(wavelet_name=wave, splited = 1)\n",
        "\n",
        "#idwt  = DWT.IDWT(wavelet_name=wave, splited = 1)\n",
        "chans=2\n",
        "s0 = tf.keras.layers.Conv2D(chans, (3, 3), activation='relu', kernel_initializer='he_normal', padding='same')(s) # 256\n",
        "s0 = Pooling()(s0) #128 128 16\n",
        "print(s.shape)\n",
        "print(s0.shape)\n",
        "c = 1\n",
        "l = dwt()(s0)\n",
        "\n",
        "\n",
        "l1 = l[:,:,:,:chans]\n",
        "h1 = l[:,:,:,chans:]\n",
        "# print(l1.shape)\n",
        "#\n",
        "l = dwt()(l1)\n",
        "l2 = l[:,:,:,:chans]\n",
        "h2 = l[:,:,:,chans:]\n",
        "#\n",
        "l = dwt()(l2)\n",
        "l3 = l[:,:,:,:chans]\n",
        "h3 = l[:,:,:,chans:]\n",
        "#\n",
        "l = dwt()(l3)\n",
        "l4 = l[:,:,:,:chans]\n",
        "h4 = l[:,:,:,chans:]\n",
        "#\n",
        "l = dwt()(l4)\n",
        "l5 = l[:,:,:,:chans]\n",
        "h5 = l[:,:,:,chans:]\n",
        "#\n",
        "l = dwt()(l5)\n",
        "l6 = l[:,:,:,:chans]\n",
        "h6 = l[:,:,:,chans:]\n",
        "\n",
        "\n",
        "xl1 = tf.keras.layers.Conv2D(f, (3, 3), activation=activation, kernel_initializer='he_normal', padding='same')(l1)\n",
        "xl1 = tf.keras.layers.Dropout(0.1)(xl1)\n",
        "xl1_ = tf.keras.layers.Conv2D(f, (3, 3), activation=activation, kernel_initializer='he_normal', padding='same')(xl1)\n",
        "\n",
        "xl1 = Pooling()(xl1_)\n",
        "\n",
        "xl2 = tf.keras.layers.Conv2D(f, (3, 3), activation=activation, kernel_initializer='he_normal', padding='same')(l2)\n",
        "xl2 = tf.keras.layers.Dropout(0.1)(xl2)\n",
        "xl2_ = tf.keras.layers.Conv2D(f, (3, 3), activation=activation, kernel_initializer='he_normal', padding='same')(xl2)\n",
        "xl2 = tf.keras.layers.Concatenate()([xl1, xl2_])\n",
        "xl2 = tf.keras.layers.Conv2D(a, (3, 3), activation=activation, kernel_initializer='he_normal', padding='same')(xl2)\n",
        "xl2 = Pooling()(xl2_)\n",
        "#xl2a = tf.keras.layers.MaxPooling2D((2, 2))(Concatenate()([xl1_, xl2]))\n",
        "\n",
        "xl3 = tf.keras.layers.Conv2D(f, (3, 3), activation=activation, kernel_initializer='he_normal', padding='same')(l3)\n",
        "xl3 = tf.keras.layers.Dropout(0.1)(xl3)\n",
        "xl3_ = tf.keras.layers.Conv2D(f, (3, 3), activation=activation, kernel_initializer='he_normal', padding='same')(xl3)\n",
        "xl3 = tf.keras.layers.Concatenate()([xl2, xl3_])\n",
        "xl3 = tf.keras.layers.Conv2D(b, (3, 3), activation=activation, kernel_initializer='he_normal', padding='same')(xl3)\n",
        "xl3 = Pooling()(xl3)\n",
        "#xl3 = tf.keras.layers.MaxPooling2D((2, 2))(xl3)\n",
        "#xl3_ = tf.keras.layers.MaxPooling2D((2, 2))(Concatenate()([xl2_, xl3]))\n",
        "\n",
        "xl4 = tf.keras.layers.Conv2D(f, (3, 3), activation=activation, kernel_initializer='he_normal', padding='same')(l4)\n",
        "xl4 = tf.keras.layers.Dropout(0.1)(xl4)\n",
        "xl4_ = tf.keras.layers.Conv2D(f, (3, 3), activation=activation, kernel_initializer='he_normal', padding='same')(xl4)\n",
        "xl4 = tf.keras.layers.Concatenate()([xl3, xl4_])\n",
        "xl4 = tf.keras.layers.Conv2D(c, (3, 3), activation=activation, kernel_initializer='he_normal', padding='same')(xl4)\n",
        "xl4 = Pooling()(xl4)\n",
        "#xl4_ = tf.keras.layers.MaxPooling2D((2, 2))(Concatenate()([xl3_, xl4]))\n",
        "\n",
        "xl5 = tf.keras.layers.Conv2D(f, (3, 3), activation=activation, kernel_initializer='he_normal', padding='same')(l5)\n",
        "xl5 = tf.keras.layers.Dropout(0.1)(xl5)\n",
        "xl5_ = tf.keras.layers.Conv2D(f, (3, 3), activation=activation, kernel_initializer='he_normal', padding='same')(xl5)\n",
        "xl5 = tf.keras.layers.Concatenate()([xl4, xl5_])\n",
        "xl5 = tf.keras.layers.Conv2D(d, (3, 3), activation=activation, kernel_initializer='he_normal', padding='same')(xl5)\n",
        "xl5 = Pooling()(xl5)\n",
        "#xl5_ = tf.keras.layers.MaxPooling2D((2, 2))(Concatenate()([xl4_, xl5]))\n",
        "\n",
        "xl6 = tf.keras.layers.Conv2D(f, (3, 3), activation=activation, kernel_initializer='he_normal', padding='same')(l6)\n",
        "xl6 = tf.keras.layers.Dropout(0.1)(xl6)\n",
        "xl6_ = tf.keras.layers.Conv2D(f, (3, 3), activation=activation, kernel_initializer='he_normal', padding='same')(xl6)\n",
        "xl6 = tf.keras.layers.Concatenate()([xl5, xl6_])\n",
        "xl6 = tf.keras.layers.Conv2D(e, (3, 3), activation=activation, kernel_initializer='he_normal', padding='same')(xl6)\n",
        "xl6 = Pooling()(xl6)\n",
        "#xl6_ = tf.keras.layers.MaxPooling2D((2, 2))(Concatenate()([xl5_, xl6]))\n",
        "\n",
        "# floor------------\n",
        "xl6 = tf.keras.layers.Conv2D(e, (3, 3), activation=activation, kernel_initializer='he_normal', padding='same')(xl6)\n",
        "xl6 = tf.keras.layers.Dropout(0.1)(xl6)\n",
        "xl6 = tf.keras.layers.Conv2D(e, (3, 3), activation=activation, kernel_initializer='he_normal', padding='same')(xl6)\n",
        "#-----------------\n",
        "\n",
        "## Decoder /Synthesis -----------------\n",
        "xl7_ = tf.keras.layers.Conv2DTranspose(e, (2, 2), strides=(2, 2), padding='same')(xl6)\n",
        "xl7_ = tf.keras.layers.Concatenate()([xl6_, xl7_])\n",
        "xl7_ = tf.keras.layers.Conv2D(e, (3, 3), activation=activation, kernel_initializer='he_normal', padding='same')(xl7_)\n",
        "xl7_ = tf.keras.layers.Dropout(0.2)(xl7_)\n",
        "xl7_ = tf.keras.layers.Conv2D(e, (3, 3), activation=activation, kernel_initializer='he_normal', padding='same')(xl7_)\n",
        "#one up pass, one branch pass\n",
        "xl7 = xl7_\n",
        "\n",
        "#xl7_ #up\n",
        "#xl7_ pass\n",
        "xl8_ = tf.keras.layers.Conv2DTranspose(d, (2, 2), strides=(2, 2), padding='same')(xl7_)\n",
        "xl8_ = tf.keras.layers.Concatenate()([xl5_, xl8_])\n",
        "xl8_ = tf.keras.layers.Conv2D(d, (3, 3), activation=activation, kernel_initializer='he_normal', padding='same')(xl8_)\n",
        "xl8_ = tf.keras.layers.Dropout(0.2)(xl8_)\n",
        "xl8_ = tf.keras.layers.Conv2D(d, (3, 3), activation=activation, kernel_initializer='he_normal', padding='same')(xl8_)\n",
        "xl8 = xl8_\n",
        "\n",
        "\n",
        "\n",
        "#xl8_ #up\n",
        "#xl8_ pass\n",
        "xl9_ = tf.keras.layers.Conv2DTranspose(c, (2, 2), strides=(2, 2), padding='same')(xl8_)\n",
        "xl9_ = tf.keras.layers.Concatenate()([xl4_, xl9_])\n",
        "xl9_ = tf.keras.layers.Conv2D(c, (3, 3), activation=activation, kernel_initializer='he_normal', padding='same')(xl9_)\n",
        "xl9_ = tf.keras.layers.Dropout(0.2)(xl9_)\n",
        "xl9_ = tf.keras.layers.Conv2D(c, (3, 3), activation=activation, kernel_initializer='he_normal', padding='same')(xl9_)\n",
        "xl9 = xl9_\n",
        "\n",
        "#xl9_ #up\n",
        "#xl9_ pass\n",
        "xlA_ = tf.keras.layers.Conv2DTranspose(b, (2, 2), strides=(2, 2), padding='same')(xl9_)\n",
        "xlA_ = tf.keras.layers.Concatenate()([xl3_, xlA_])\n",
        "xlA_ = tf.keras.layers.Conv2D(b, (3, 3), activation=activation, kernel_initializer='he_normal', padding='same')(xlA_)\n",
        "xlA_ = tf.keras.layers.Dropout(0.2)(xlA_)\n",
        "xlA_ = tf.keras.layers.Conv2D(b, (3, 3), activation=activation, kernel_initializer='he_normal', padding='same')(xlA_)\n",
        "xlA = xlA_\n",
        "\n",
        "#xlA_ #up\n",
        "#xlA_ pass\n",
        "xlB_ = tf.keras.layers.Conv2DTranspose(a, (2, 2), strides=(2, 2), padding='same')(xlA_)\n",
        "xlB_ = tf.keras.layers.Concatenate()([xl2_, xlB_])\n",
        "xlB_ = tf.keras.layers.Conv2D(a, (3, 3), activation=activation, kernel_initializer='he_normal', padding='same')(xlB_)\n",
        "xlB_ = tf.keras.layers.Dropout(0.2)(xlB_)\n",
        "xlB_ = tf.keras.layers.Conv2D(a, (3, 3), activation=activation, kernel_initializer='he_normal', padding='same')(xlB_)\n",
        "xlB = xlB_\n",
        "\n",
        "#xlB_ #up\n",
        "#xlB_ pass\n",
        "xlC_ = tf.keras.layers.Conv2DTranspose(f, (2, 2), strides=(2, 2), padding='same')(xlB_)\n",
        "xlC_ = tf.keras.layers.Concatenate()([xl1_, xlC_])\n",
        "xlC_ = tf.keras.layers.Conv2D(f, (3, 3), activation=activation, kernel_initializer='he_normal', padding='same')(xlC_)\n",
        "xlC_ = tf.keras.layers.Dropout(0.2)(xlC_)\n",
        "xlC_ = tf.keras.layers.Conv2D(f, (3, 3), activation=activation, kernel_initializer='he_normal', padding='same')(xlC_)\n",
        "xlC = xlC_\n",
        "\n",
        "\n",
        "xl7 = tf.keras.layers.Conv2D(1, (1, 1), activation=activation2)(xl7)\n",
        "xl8 = tf.keras.layers.Conv2D(1, (1, 1), activation=activation2)(xl8)\n",
        "xl9 = tf.keras.layers.Conv2D(1, (1, 1), activation=activation2)(xl9)\n",
        "xlA = tf.keras.layers.Conv2D(1, (1, 1), activation=activation2)(xlA)\n",
        "xlB = tf.keras.layers.Conv2D(1, (1, 1), activation=activation2)(xlB)\n",
        "xlC = tf.keras.layers.Conv2D(1, (1, 1), activation=activation2)(xlC)\n",
        "\n",
        "\"\"\"\n",
        "\n",
        "xl7 = tf.keras.layers.Conv2D(1, (1, 1), activation='sigmoid')(xl7)\n",
        "xl8 = tf.keras.layers.Conv2D(1, (1, 1), activation='sigmoid')(xl8)\n",
        "xl9 = tf.keras.layers.Conv2D(1, (1, 1), activation='sigmoid')(xl9)\n",
        "xlA = tf.keras.layers.Conv2D(1, (1, 1), activation='sigmoid')(xlA)\n",
        "xlB = tf.keras.layers.Conv2D(1, (1, 1), activation='sigmoid')(xlB)\n",
        "xlC = tf.keras.layers.Conv2D(1, (1, 1), activation='sigmoid')(xlC)\n",
        "\"\"\"\n",
        "\n",
        "\"\"\"\n",
        "iw6 = Concatenate()([xl7,h6])\n",
        "iw6 = WaveTFFactory().build(Ψ, dim=2, inverse=True)(iw6)\n",
        "\n",
        "#\n",
        "iw5 = tf.keras.layers.Conv2D(1, (1, 1), activation='softmax')(Concatenate()([xl8,iw6]))\n",
        "iw5 = WaveTFFactory().build(Ψ, dim=2, inverse=True)(Concatenate()([iw5,h5]))\n",
        "#\n",
        "iw4 = tf.keras.layers.Conv2D(1, (1, 1), activation='softmax')(Concatenate()([xl9,iw5]))\n",
        "iw4 = WaveTFFactory().build(Ψ, dim=2, inverse=True)(Concatenate()([iw4,h4]))\n",
        "#\n",
        "iw3 = tf.keras.layers.Conv2D(1, (1, 1), activation='softmax')(Concatenate()([xlA,iw4]))\n",
        "iw3 = WaveTFFactory().build(Ψ, dim=2, inverse=True)(Concatenate()([iw3,h3]))\n",
        "#\n",
        "iw2 = tf.keras.layers.Conv2D(1, (1, 1), activation='softmax')(Concatenate()([xlB,iw3]))\n",
        "iw2 = WaveTFFactory().build(Ψ, dim=2, inverse=True)(Concatenate()([iw2,h2]))\n",
        "#\n",
        "iw1 = tf.keras.layers.Conv2D(1, (1, 1), activation='softmax')(Concatenate()([xlC,iw2]))\n",
        "iw1 = WaveTFFactory().build(Ψ, dim=2, inverse=True)(Concatenate()([iw1,h1]))\n",
        "\"\"\"\n",
        "\n",
        "\n",
        "\n",
        "\n",
        "\n",
        "iw6 = tf.keras.layers.Concatenate()([xl7,h6])\n",
        "# print(iw6.shape)\n",
        "iw6 = idwt()(iw6)\n",
        "# print(iw6.shape)\n",
        "#\n",
        "\n",
        "iw5 = tf.keras.layers.Conv2D(1, (1, 1), activation=activation3)(tf.keras.layers.Concatenate()([xl8,iw6]))\n",
        "iw5 = idwt()(tf.keras.layers.Concatenate()([iw5,h5]))\n",
        "#\n",
        "iw4 = tf.keras.layers.Conv2D(1, (1, 1), activation=activation3)(tf.keras.layers.Concatenate()([xl9,iw5]))\n",
        "iw4 = idwt()(tf.keras.layers.Concatenate()([iw4,h4]))\n",
        "#\n",
        "iw3 = tf.keras.layers.Conv2D(1, (1, 1), activation=activation3)(tf.keras.layers.Concatenate()([xlA,iw4]))\n",
        "iw3 = idwt()(tf.keras.layers.Concatenate()([iw3,h3]))\n",
        "#\n",
        "iw2 = tf.keras.layers.Conv2D(1, (1, 1), activation=activation3)(tf.keras.layers.Concatenate()([xlB,iw3]))\n",
        "iw2 = idwt()(tf.keras.layers.Concatenate()([iw2,h2]))\n",
        "#\n",
        "iw1 = tf.keras.layers.Conv2D(1, (1, 1), activation=activation3)(tf.keras.layers.Concatenate()([xlC,iw2]))\n",
        "iw1 = idwt()(tf.keras.layers.Concatenate()([iw1,h1]))\n",
        "\n",
        "\n",
        "\n",
        "out = tf.keras.layers.Conv2DTranspose(f, (2, 2), strides=(2, 2), padding='same')(tf.keras.layers.Concatenate()([s0,iw1]))\n",
        "out = tf.keras.layers.Conv2D(1, (1, 1), activation='sigmoid')(out)\n",
        "\n",
        "\n",
        "\n",
        "\n",
        "\n",
        "\n",
        "\n",
        "\n",
        "\n",
        "\n",
        "\"\"\"\n",
        "#\n",
        "iw5 = tf.keras.layers.Conv2D(1, (1, 1), activation='sigmoid')(Concatenate()([xl8,iw6]))\n",
        "iw5 = WaveTFFactory().build(Ψ, dim=2, inverse=True)(Concatenate()([iw5,h5]))\n",
        "#\n",
        "iw4 = tf.keras.layers.Conv2D(1, (1, 1), activation='sigmoid')(Concatenate()([xl9,iw5]))\n",
        "iw4 = WaveTFFactory().build(Ψ, dim=2, inverse=True)(Concatenate()([iw4,h4]))\n",
        "#\n",
        "iw3 = tf.keras.layers.Conv2D(1, (1, 1), activation='sigmoid')(Concatenate()([xlA,iw4]))\n",
        "iw3 = WaveTFFactory().build(Ψ, dim=2, inverse=True)(Concatenate()([iw3,h3]))\n",
        "#\n",
        "iw2 = tf.keras.layers.Conv2D(1, (1, 1), activation='sigmoid')(Concatenate()([xlB,iw3]))\n",
        "iw2 = WaveTFFactory().build(Ψ, dim=2, inverse=True)(Concatenate()([iw2,h2]))\n",
        "#\n",
        "iw1 = tf.keras.layers.Conv2D(1, (1, 1), activation='sigmoid')(Concatenate()([xlC,iw2]))\n",
        "iw1 = WaveTFFactory().build(Ψ, dim=2, inverse=True)(Concatenate()([iw1,h1]))\n",
        "\n",
        "\"\"\"\n",
        "\n",
        "# out_resiz  = tf.keras.layers.Resizing(\n",
        "#                 height=256,\n",
        "#                 width=192,\n",
        "#                 interpolation='bilinear',\n",
        "#                 crop_to_aspect_ratio=False\n",
        "#             )(iw1)\n",
        "\n",
        "\n",
        "\n",
        "\n",
        "outputs = iw1#tf.keras.layers.Conv2D(1, (1, 1), activation='sigmoid')(c9)\n",
        "\n",
        "model = tf.keras.Model(inputs=[inputs], outputs=[out])\n",
        "\n",
        "#model.compile(optimizer='adam', loss='binary_crossentropy', metrics=['accuracy',tfa.losses.GIoULoss()])\n",
        "# model.compile(optimizer='adam', loss='binary_crossentropy', metrics=['accuracy'])\n",
        "# model.compile(optimizer='adam', loss=Dice, metrics=[tf.keras.metrics.MeanIoU(num_classes=2)])\n",
        "model.compile(optimizer='adam', loss='binary_crossentropy', metrics=['accuracy',tf.keras.metrics.IoU(num_classes=2, target_class_ids=[0])])\n",
        "\n",
        "model.summary()\n",
        "# plot_model(model,\n",
        "#           show_shapes=True,\n",
        "#           expand_nested=False,\n",
        "#           show_layer_activations=True,\n",
        "#           to_file=f'{wave}_Unet_{round(time.time(),4)}.png')"
      ],
      "metadata": {
        "id": "8R7zEzEQDa65",
        "colab": {
          "base_uri": "https://localhost:8080/",
          "height": 242
        },
        "outputId": "9a9e5d63-b555-4918-9495-20951a3c8ffa"
      },
      "execution_count": null,
      "outputs": [
        {
          "output_type": "error",
          "ename": "NameError",
          "evalue": "ignored",
          "traceback": [
            "\u001b[0;31m---------------------------------------------------------------------------\u001b[0m",
            "\u001b[0;31mNameError\u001b[0m                                 Traceback (most recent call last)",
            "\u001b[0;32m<ipython-input-6-d61f08b19816>\u001b[0m in \u001b[0;36m<cell line: 62>\u001b[0;34m()\u001b[0m\n\u001b[1;32m     60\u001b[0m \u001b[0;31m# print(s0.shape)\u001b[0m\u001b[0;34m\u001b[0m\u001b[0;34m\u001b[0m\u001b[0m\n\u001b[1;32m     61\u001b[0m \u001b[0;31m# c = 1\u001b[0m\u001b[0;34m\u001b[0m\u001b[0;34m\u001b[0m\u001b[0m\n\u001b[0;32m---> 62\u001b[0;31m \u001b[0ml\u001b[0m \u001b[0;34m=\u001b[0m \u001b[0mdwt\u001b[0m\u001b[0;34m(\u001b[0m\u001b[0;34m)\u001b[0m\u001b[0;34m(\u001b[0m\u001b[0ms0\u001b[0m\u001b[0;34m)\u001b[0m\u001b[0;34m\u001b[0m\u001b[0;34m\u001b[0m\u001b[0m\n\u001b[0m\u001b[1;32m     63\u001b[0m \u001b[0;34m\u001b[0m\u001b[0m\n\u001b[1;32m     64\u001b[0m \u001b[0;34m\u001b[0m\u001b[0m\n",
            "\u001b[0;31mNameError\u001b[0m: name 'dwt' is not defined"
          ]
        }
      ]
    },
    {
      "cell_type": "markdown",
      "source": [
        "# Training the Model"
      ],
      "metadata": {
        "id": "uqQEGS5CjLko"
      }
    },
    {
      "cell_type": "code",
      "source": [
        "model.save('finally.h5')"
      ],
      "metadata": {
        "id": "rrjsegRWDa3a"
      },
      "execution_count": null,
      "outputs": []
    },
    {
      "cell_type": "code",
      "source": [
        "model.save_weights('f_wt.h5')"
      ],
      "metadata": {
        "id": "xYkhVqafxXMe"
      },
      "execution_count": null,
      "outputs": []
    },
    {
      "cell_type": "code",
      "source": [
        "import nibabel as nib\n",
        "\n",
        "view = \"sagittal\"\n",
        "\n",
        "checkpointer = tf.keras.callbacks.ModelCheckpoint(f'model_for_{view}.h5', verbose=1, save_best_only=True)\n",
        "\n",
        "callbacks = [\n",
        "        #tf.keras.callbacks.EarlyStopping(patience=2, monitor='val_loss'),\n",
        "        tf.keras.callbacks.EarlyStopping(patience=2, monitor='loss'),\n",
        "        tf.keras.callbacks.TensorBoard(log_dir='logs')]\n",
        "\n",
        "#results = model.fit(X_train_resized, Y_train_resized, validation_split=0.1, batch_size=100, epochs=25, callbacks=callbacks)\n",
        "results = model.fit(X_train, Y_train, validation_split=0.1, batch_size=8,epochs=20, callbacks=callbacks)\n"
      ],
      "metadata": {
        "id": "x6AZry_Bmx0e"
      },
      "execution_count": null,
      "outputs": []
    },
    {
      "cell_type": "markdown",
      "source": [
        "# Plotting the graphs"
      ],
      "metadata": {
        "id": "TWnXyWx-jdIv"
      }
    },
    {
      "cell_type": "code",
      "source": [
        "from IPython.display import clear_output\n",
        "class PlotLearning(keras.callbacks.Callback):\n",
        "    \"\"\"\n",
        "    Callback to plot the learning curves of the model during training.\n",
        "    \"\"\"\n",
        "    def on_train_begin(self, logs={}):\n",
        "        self.metrics = {}\n",
        "        for metric in logs:\n",
        "            self.metrics[metric] = []\n",
        "\n",
        "\n",
        "    def on_epoch_end(self, epoch, logs={}):\n",
        "        # Storing metrics\n",
        "        for metric in logs:\n",
        "            if metric in self.metrics:\n",
        "                self.metrics[metric].append(logs.get(metric))\n",
        "            else:\n",
        "                self.metrics[metric] = [logs.get(metric)]\n",
        "\n",
        "        # Plotting\n",
        "        metrics = [x for x in logs if 'val' not in x]\n",
        "\n",
        "        f, axs = plt.subplots(1, len(metrics), figsize=(15,5))\n",
        "        clear_output(wait=True)\n",
        "\n",
        "        for i, metric in enumerate(metrics):\n",
        "            axs[i].plot(range(1, epoch + 2),\n",
        "                        self.metrics[metric],\n",
        "                        label=metric)\n",
        "            if logs['val_' + metric]:\n",
        "                axs[i].plot(range(1, epoch + 2),\n",
        "                            self.metrics['val_' + metric],\n",
        "                            label='val_' + metric)\n",
        "\n",
        "            axs[i].legend()\n",
        "            axs[i].grid()\n",
        "\n",
        "        plt.tight_layout()\n",
        "        plt.show()"
      ],
      "metadata": {
        "id": "Za35d9lOMw9a"
      },
      "execution_count": null,
      "outputs": []
    },
    {
      "cell_type": "code",
      "source": [
        "import nibabel as nib\n",
        "view = \"sagittal\"\n",
        "\n",
        "checkpointer = tf.keras.callbacks.ModelCheckpoint(f'model_for_{view}.h5', verbose=1, save_best_only=True)\n",
        "\n",
        "callbacks = [\n",
        "        #tf.keras.callbacks.EarlyStopping(patience=2, monitor='val_loss'),\n",
        "        tf.keras.callbacks.EarlyStopping(patience=2, monitor='loss'),\n",
        "        PlotLearning()]\n",
        "        # tf.keras.callbacks.TensorBoard(log_dir='logs')]\n",
        "\n",
        "# results = model.fit(X_train_resized, Y_train_resized, validation_split=0.1, batch_size=100, epochs=25, callbacks=callbacks)\n",
        "results = model.fit(X_train, Y_train, validation_split=0.1, batch_size=4, epochs=2, callbacks=callbacks)\n",
        "# results = model.fit(dataset, batch_size=1, epochs=1, callbacks=callbacks)"
      ],
      "metadata": {
        "id": "odqiTAjwD_q0",
        "colab": {
          "base_uri": "https://localhost:8080/",
          "height": 420
        },
        "outputId": "46fb9026-5c4d-4c48-e269-ac3d09c6ded3"
      },
      "execution_count": null,
      "outputs": [
        {
          "output_type": "display_data",
          "data": {
            "text/plain": [
              "<Figure size 1500x500 with 3 Axes>"
            ],
            "image/png": "[encoded data removed]"
          },
          "metadata": {}
        },
        {
          "output_type": "stream",
          "name": "stdout",
          "text": [
            "\b\b\b\b\b\b\b\b\b\b\b\b\b\b\b\b\b\b\b\b\b\b\b\b\b\b\b\b\b\b\b\b\b\b\b\b\b\b\b\b\b\b\b\b\b\b\b\b\b\b\b\b\b\b\b\b\b\b\b\b\b\b\b\b\b\b\b\b\b\b\b\b\b\b\b\b\b\b\b\b\b\b\b\b\b\b\b\b\b\b\b\b\b\b\b\b\b\b\b\r922/922 [==============================] - 43s 47ms/step - loss: 0.0519 - accuracy: 0.9787 - io_u: 0.8660 - val_loss: 0.0423 - val_accuracy: 0.9822 - val_io_u: 0.8684\n"
          ]
        }
      ]
    },
    {
      "cell_type": "markdown",
      "source": [
        "# Testing the Model"
      ],
      "metadata": {
        "id": "2Y97NP5snc6Y"
      }
    },
    {
      "cell_type": "code",
      "source": [
        "import matplotlib.pyplot as plt\n",
        "\n",
        "img = X_test[:256,:,:,:]\n",
        "print(img.shape)\n",
        "pred = model(img)\n",
        "print(pred.shape)\n",
        "mask=Y_test[:256,:,:,:]\n",
        "print(mask.shape)\n",
        "\n",
        "\n",
        "import random\n",
        "idx = 150\n",
        "plt.figure(figsize=(9,3))\n",
        "plt.subplot(131), plt.imshow(np.squeeze(img[idx])), plt.title('Image')\n",
        "plt.subplot(132), plt.imshow(np.squeeze(mask[idx])), plt.title('desired Mask')\n",
        "a  = np.logical_and(pred[idx] > 0.45, pred[idx] < 0.48)\n",
        "plt.subplot(133), plt.imshow((np.squeeze(pred[idx])>0.5)), plt.title('predicted Mask')\n",
        "\n",
        "\n",
        "\n",
        "plt.show()"
      ],
      "metadata": {
        "id": "4Z0kAePBnbS3",
        "colab": {
          "base_uri": "https://localhost:8080/",
          "height": 340
        },
        "outputId": "4c56bab6-a455-4004-876f-be54c87e4542"
      },
      "execution_count": null,
      "outputs": [
        {
          "output_type": "stream",
          "name": "stdout",
          "text": [
            "(256, 256, 256, 1)\n",
            "(256, 256, 256, 1)\n",
            "(256, 256, 256, 1)\n"
          ]
        },
        {
          "output_type": "display_data",
          "data": {
            "text/plain": [
              "<Figure size 900x300 with 3 Axes>"
            ],
            "image/png": "[encoded data removed]"
          },
          "metadata": {}
        }
      ]
    },
    {
      "cell_type": "code",
      "source": [
        "converted_array=np.array(pred[:,:,:,0])"
      ],
      "metadata": {
        "id": "JS1pmbg_-HSI"
      },
      "execution_count": null,
      "outputs": []
    },
    {
      "cell_type": "code",
      "source": [
        "import nibabel as nb\n",
        "\n",
        "ni_img = nib.Nifti1Image(converted_array, affine=np.eye(4))\n",
        "nib.save(ni_img, \"mask.nii\")"
      ],
      "metadata": {
        "id": "jG6-2rcq-LKR"
      },
      "execution_count": null,
      "outputs": []
    },
    {
      "cell_type": "code",
      "source": [
        "import nibabel as nb\n",
        "converted_array=np.array(img)\n",
        "ni_img = nib.Nifti1Image(converted_array, affine=np.eye(4))\n",
        "nib.save(ni_img, \"image2.nii\")"
      ],
      "metadata": {
        "id": "zrZ8KiVnxQ0T"
      },
      "execution_count": null,
      "outputs": []
    },
    {
      "cell_type": "code",
      "source": [
        "final_image=np.multiply(img[:,:,:,0],converted_array)"
      ],
      "metadata": {
        "id": "t6OPpiTN-NYl"
      },
      "execution_count": null,
      "outputs": []
    },
    {
      "cell_type": "code",
      "source": [
        "plt.imshow(final_image[150,:,:])"
      ],
      "metadata": {
        "id": "ChVApUc3-T5e"
      },
      "execution_count": null,
      "outputs": []
    },
    {
      "cell_type": "code",
      "source": [
        "import nibabel as nb\n",
        "\n",
        "ni_img = nib.Nifti1Image(final_image, affine=np.eye(4))\n",
        "nib.save(ni_img, \"final.nii\")"
      ],
      "metadata": {
        "id": "xGn8hKV7-WTT"
      },
      "execution_count": null,
      "outputs": []
    },
    {
      "cell_type": "markdown",
      "source": [
        "# AIIMS Data"
      ],
      "metadata": {
        "id": "QUFePm-FwZ53"
      }
    },
    {
      "cell_type": "code",
      "source": [
        "import nibabel as nib\n",
        "img=nib.load(\"/content/anita_4.nii\").get_fdata()"
      ],
      "metadata": {
        "id": "Iq4S12ZQ4u-e"
      },
      "execution_count": null,
      "outputs": []
    },
    {
      "cell_type": "code",
      "source": [
        "img.shape"
      ],
      "metadata": {
        "id": "kh6oxriqwghd",
        "colab": {
          "base_uri": "https://localhost:8080/"
        },
        "outputId": "1d3e22dc-41d6-4228-9368-8f50770baba0"
      },
      "execution_count": null,
      "outputs": [
        {
          "output_type": "execute_result",
          "data": {
            "text/plain": [
              "(240, 400, 400)"
            ]
          },
          "metadata": {},
          "execution_count": 36
        }
      ]
    },
    {
      "cell_type": "code",
      "source": [
        "# returns single slices of frontal view\n",
        "def frontal_view_imgs(data):\n",
        "  list_frontal_view_imgs = []\n",
        "  for i in range(data.shape[0]):\n",
        "    im_slice = data[i,:,:]\n",
        "    # im_resized = im_slice\n",
        "    im_resized = cv2.resize(im_slice, (256, 256))\n",
        "    del im_slice\n",
        "    list_frontal_view_imgs.append(np.expand_dims(im_resized, -1))\n",
        "\n",
        "  list_frontal_view_imgs = np.array(list_frontal_view_imgs)\n",
        "  return list_frontal_view_imgs\n",
        "\n",
        "# returns single slices of side view\n",
        "def side_view_imgs(data):\n",
        "  list_side_view_imgs = []\n",
        "  for i in range(data.shape[2]):\n",
        "\n",
        "    im_slice = data[:,:,i]\n",
        "\n",
        "    # im_resized = im_slice\n",
        "    im_resized = cv2.resize(im_slice, (256, 256))\n",
        "    del im_slice\n",
        "\n",
        "    list_side_view_imgs.append(np.expand_dims(im_resized, -1))\n",
        "\n",
        "  list_side_view_imgs = np.array(list_side_view_imgs)\n",
        "  return list_side_view_imgs\n",
        "\n",
        "# returns single slices of top view\n",
        "def top_view_imgs(data):\n",
        "  list_top_view_imgs = []\n",
        "  for i in range(data.shape[1]):\n",
        "      im_slice = data[:, i, :]\n",
        "      # im_resized = im_slice\n",
        "      im_resized =  cv2.resize(im_slice, (256, 256))\n",
        "      list_top_view_imgs.append(np.expand_dims(im_resized, -1))\n",
        "\n",
        "  list_top_view_imgs = np.array(list_top_view_imgs)\n",
        "  return list_top_view_imgs"
      ],
      "metadata": {
        "id": "w8mAWnAxwiyP"
      },
      "execution_count": null,
      "outputs": []
    },
    {
      "cell_type": "code",
      "source": [
        "front_view=frontal_view_imgs(img)\n",
        "top_view=top_view_imgs(img)\n",
        "side_view=side_view_imgs(img)"
      ],
      "metadata": {
        "id": "HJxZxpWzwiu9"
      },
      "execution_count": null,
      "outputs": []
    },
    {
      "cell_type": "code",
      "source": [
        "front_view.shape"
      ],
      "metadata": {
        "id": "ypd7TRNBwpCU",
        "colab": {
          "base_uri": "https://localhost:8080/"
        },
        "outputId": "884d75a9-e482-4f8f-ffa2-8db60a7188e8"
      },
      "execution_count": null,
      "outputs": [
        {
          "output_type": "execute_result",
          "data": {
            "text/plain": [
              "(240, 256, 256, 1)"
            ]
          },
          "metadata": {},
          "execution_count": 44
        }
      ]
    },
    {
      "cell_type": "code",
      "source": [
        "def plot_test(view):\n",
        "  pred=model(view)\n",
        "  idx = 190\n",
        "  plt.figure(figsize=(9,3))\n",
        "  plt.subplot(131), plt.imshow(np.squeeze(view[idx])), plt.title('Image')\n",
        "  # plt.subplot(132), plt.imshow(np.squeeze(mask[idx])), plt.title('desired Mask')\n",
        "  a  = np.logical_and(pred[idx] > 0.45, pred[idx] < 0.48)\n",
        "  plt.subplot(133), plt.imshow((np.squeeze(pred[idx])>0.5)), plt.title('predicted Mask')\n",
        "  plt.show()"
      ],
      "metadata": {
        "id": "vgxGOM1dxQrG"
      },
      "execution_count": null,
      "outputs": []
    },
    {
      "cell_type": "code",
      "source": [
        "plot_test(front_view)"
      ],
      "metadata": {
        "id": "gqMTvO7TxTyw",
        "colab": {
          "base_uri": "https://localhost:8080/",
          "height": 288
        },
        "outputId": "814f1c62-6d8e-4378-86c1-e638753164ef"
      },
      "execution_count": null,
      "outputs": [
        {
          "output_type": "display_data",
          "data": {
            "text/plain": [
              "<Figure size 900x300 with 2 Axes>"
            ],
            "image/png": "[encoded data removed]"
          },
          "metadata": {}
        }
      ]
    },
    {
      "cell_type": "code",
      "source": [],
      "metadata": {
        "id": "Qu4t_a5Xp-iI"
      },
      "execution_count": null,
      "outputs": []
    }
  ]
}